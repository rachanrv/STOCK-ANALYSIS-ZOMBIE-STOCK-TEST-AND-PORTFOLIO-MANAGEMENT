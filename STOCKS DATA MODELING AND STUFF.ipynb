{
 "cells": [
  {
   "cell_type": "markdown",
   "metadata": {
    "colab_type": "text",
    "id": "nOwlAhrboWEb"
   },
   "source": [
    "# ***PART-I***\n",
    "\n",
    "---\n",
    "\n",
    "\n",
    "\n",
    "\n",
    "\n"
   ]
  },
  {
   "cell_type": "markdown",
   "metadata": {
    "colab_type": "text",
    "id": "j88EySx80lwf"
   },
   "source": [
    "# MOUNTING GOOGLE DRIVE "
   ]
  },
  {
   "cell_type": "markdown",
   "metadata": {
    "colab_type": "text",
    "id": "Ki3OwhI3YWSL"
   },
   "source": [
    "**THE GOOGLE DRIVE IS MOUNTED TO ACCESS THE FILES IN GOOGLE CLOUD**"
   ]
  },
  {
   "cell_type": "code",
   "execution_count": null,
   "metadata": {
    "colab": {},
    "colab_type": "code",
    "id": "ymoQ6TMJv7pK"
   },
   "outputs": [],
   "source": [
    "from google.colab import drive\n",
    "drive.mount('/content/drive')"
   ]
  },
  {
   "cell_type": "code",
   "execution_count": null,
   "metadata": {
    "colab": {},
    "colab_type": "code",
    "id": "ZZY2NrFQwHrS"
   },
   "outputs": [],
   "source": [
    "import numpy as np\n",
    "import pandas as pd\n",
    "pd.core.common.is_list_like = pd.api.types.is_list_like\n",
    "import matplotlib.pyplot as plt\n",
    "import pandas_datareader as pdr\n",
    "import datetime \n",
    "from sklearn.preprocessing import MinMaxScaler\n",
    "import seaborn as sns\n",
    "import os\n",
    "import shutil\n",
    "% matplotlib inline\n"
   ]
  },
  {
   "cell_type": "markdown",
   "metadata": {
    "colab_type": "text",
    "id": "xARKGple0b2k"
   },
   "source": [
    "# CREATING MAIN DIRECTORY"
   ]
  },
  {
   "cell_type": "markdown",
   "metadata": {
    "colab_type": "text",
    "id": "mIrOM9U2ZBGi"
   },
   "source": [
    "**CREATING DIRECTORIES TO SAVE THE RESULTS**"
   ]
  },
  {
   "cell_type": "code",
   "execution_count": null,
   "metadata": {
    "colab": {},
    "colab_type": "code",
    "id": "E6eRJrEJwKdu"
   },
   "outputs": [],
   "source": [
    "path='/content/drive/Shared drives/OPIM5512 - Data Sci. w Python/Data/Final Results'\n",
    "try:\n",
    "  os.mkdir(path)\n",
    "except OSError:\n",
    "  print (\"Creation of the directory %s failed\" % path)\n",
    "else:\n",
    "  print (\"Successfully created the directory %s \" % path)"
   ]
  },
  {
   "cell_type": "markdown",
   "metadata": {
    "colab_type": "text",
    "id": "VbadeF0R1xnH"
   },
   "source": [
    "# WEB SCRAPING"
   ]
  },
  {
   "cell_type": "markdown",
   "metadata": {
    "colab_type": "text",
    "id": "xuHb0saRZYfG"
   },
   "source": [
    "**EXTRACTING TICKER SYMBOLS FROM 5 ETF INDICES FOR COVID TOP 3 WINNING AND LOSING SECTORS** "
   ]
  },
  {
   "cell_type": "code",
   "execution_count": null,
   "metadata": {
    "colab": {},
    "colab_type": "code",
    "id": "ldABXc_71usX"
   },
   "outputs": [],
   "source": [
    "%pip install fix_yahoo_finance "
   ]
  },
  {
   "cell_type": "code",
   "execution_count": null,
   "metadata": {
    "colab": {},
    "colab_type": "code",
    "id": "prVA_3Zr1wvx"
   },
   "outputs": [],
   "source": [
    "import fix_yahoo_finance as fyf\n",
    "from pandas_datareader import data as pdr\n",
    "fyf.pdr_override()"
   ]
  },
  {
   "cell_type": "markdown",
   "metadata": {
    "colab_type": "text",
    "id": "VR1exdKXAKsb"
   },
   "source": [
    "# FILTERING STOCK TICKERS FROM ETF INDICES"
   ]
  },
  {
   "cell_type": "markdown",
   "metadata": {
    "colab_type": "text",
    "id": "3HRtnP2bb8yp"
   },
   "source": [
    "**EXTRACTED THE TABLES OF TICKERS FROM ETF INDICES,ONLY FILTERED THE DUPLICATES IN THE SECTOR AND SELECTED THE TOP 3** "
   ]
  },
  {
   "cell_type": "code",
   "execution_count": null,
   "metadata": {
    "colab": {},
    "colab_type": "code",
    "id": "__vmJZcg2BYN"
   },
   "outputs": [],
   "source": [
    "T=['VGT','XLK','IYW','SKYY','FTEC']\n",
    "CD=['XLY','VCR','FXD','IBUY','XRT']\n",
    "HC=['XLV','VHT','IBB','IHI','FBT']\n",
    "F=['VFH','FNCL','XLF','IYF','FAS']\n",
    "U=['FUTY','XLU','VPU','IDU','FXU']\n",
    "CS=['XLP','VDC','FSTA','KXI','RHS']\n",
    "web='https://screener.fidelity.com/ftgw/etf/goto/snapshot/snapshot.jhtml?symbols='\n"
   ]
  },
  {
   "cell_type": "code",
   "execution_count": null,
   "metadata": {
    "colab": {},
    "colab_type": "code",
    "id": "xrUa4QXo2GZN"
   },
   "outputs": [],
   "source": [
    "table=pd.DataFrame()\n",
    "for x in T:\n",
    "  ETFpayload = pd.read_html(web+x)\n",
    "  table=pd.concat([table,ETFpayload[17].loc[0:2,0]],axis=0)\n",
    "t=table[table.duplicated(keep=False)]\n",
    "t=t.drop_duplicates()\n",
    "if len(t)>3:\n",
    "  t=t.iloc[0:3]\n",
    "for x in range(3):\n",
    "  t.iloc[x,0]=''.join(filter(str.isalpha,t.iloc[x,0]))\n",
    "t"
   ]
  },
  {
   "cell_type": "code",
   "execution_count": null,
   "metadata": {
    "colab": {},
    "colab_type": "code",
    "id": "DWi3RQ923wC4"
   },
   "outputs": [],
   "source": [
    "table=pd.DataFrame()\n",
    "for x in CD:\n",
    "  ETFpayload = pd.read_html(web+x)\n",
    "  table=pd.concat([table,ETFpayload[17].loc[0:2,0]],axis=0)\n",
    "cd=table[table.duplicated(keep=False)]\n",
    "cd=cd.drop_duplicates()\n",
    "if len(cd)>3:\n",
    "  cd=cd.iloc[0:3]\n",
    "for x in range(3):\n",
    "  cd.iloc[x,0]=''.join(filter(str.isalpha,cd.iloc[x,0]))\n",
    "cd"
   ]
  },
  {
   "cell_type": "code",
   "execution_count": null,
   "metadata": {
    "colab": {},
    "colab_type": "code",
    "id": "0_nCoIBq3x-1"
   },
   "outputs": [],
   "source": [
    "table=pd.DataFrame()\n",
    "for x in HC:  \n",
    "  ETFpayload = pd.read_html(web+x)\n",
    "  table=pd.concat([table,ETFpayload[17].loc[0:2,0]],axis=0)\n",
    "hc=table[table.duplicated(keep=False)]\n",
    "hc=hc.drop_duplicates()\n",
    "if len(hc)>3:\n",
    "  hc=hc.iloc[0:3]\n",
    "for x in range(3):\n",
    "  hc.iloc[x,0]=''.join(filter(str.isalpha,hc.iloc[x,0]))\n",
    "hc"
   ]
  },
  {
   "cell_type": "code",
   "execution_count": null,
   "metadata": {
    "colab": {},
    "colab_type": "code",
    "id": "5jMh8Qf_30mR"
   },
   "outputs": [],
   "source": [
    "table=pd.DataFrame()\n",
    "for x in F:\n",
    "  ETFpayload = pd.read_html(web+x)\n",
    "  if x=='FAS':\n",
    "    table=pd.concat([table,ETFpayload[16].loc[0:2,0]],axis=0)\n",
    "  else:\n",
    "    table=pd.concat([table,ETFpayload[17].loc[0:2,0]],axis=0)\n",
    "f=table[table.duplicated(keep=False)]\n",
    "for x in range(len(f)):\n",
    "  if f.iloc[x,0]=='BRK/B':\n",
    "    f.iloc[x,0]=f.iloc[-1,0]\n",
    "f=f.drop_duplicates()\n",
    "if len(f)>3:\n",
    "  f=f.iloc[0:3]\n",
    "for x in range(3):\n",
    "  f.iloc[x,0]=''.join(filter(str.isalpha,f.iloc[x,0]))\n",
    "f"
   ]
  },
  {
   "cell_type": "code",
   "execution_count": null,
   "metadata": {
    "colab": {},
    "colab_type": "code",
    "id": "2dGFuQM131Nu"
   },
   "outputs": [],
   "source": [
    "table=pd.DataFrame()\n",
    "for x in U:\n",
    "  ETFpayload = pd.read_html(web+x)\n",
    "  table=pd.concat([table,ETFpayload[17].loc[0:2,0]],axis=0)\n",
    "u=table[table.duplicated(keep=False)]\n",
    "u=u.drop_duplicates()\n",
    "if len(u)>3:\n",
    "  u=u.iloc[0:3]\n",
    "for x in range(3):\n",
    "  u.iloc[x,0]=''.join(filter(str.isalpha,u.iloc[x,0]))\n",
    "u"
   ]
  },
  {
   "cell_type": "code",
   "execution_count": null,
   "metadata": {
    "colab": {},
    "colab_type": "code",
    "id": "sfTd8rc4319R"
   },
   "outputs": [],
   "source": [
    "table=pd.DataFrame()\n",
    "for x in CS:\n",
    "  ETFpayload = pd.read_html(web+x)\n",
    "  table=pd.concat([table,ETFpayload[17].loc[0:2,0]],axis=0)\n",
    "cs=table[table.duplicated(keep=False)]\n",
    "cs=cs.drop_duplicates()\n",
    "if len(cs)>3:\n",
    "  cs=cs.iloc[0:3]\n",
    "for x in range(3):\n",
    "  cs.iloc[x,0]=''.join(filter(str.isalpha,cs.iloc[x,0]))\n",
    "cs"
   ]
  },
  {
   "cell_type": "markdown",
   "metadata": {
    "colab_type": "text",
    "id": "Kydi4Fs9mUNL"
   },
   "source": [
    "# SETTING DATA DIRECTORIES"
   ]
  },
  {
   "cell_type": "markdown",
   "metadata": {
    "colab_type": "text",
    "id": "qHHzChPberRI"
   },
   "source": [
    "**DIRECTORIES FOR ALL SECTORS**"
   ]
  },
  {
   "cell_type": "code",
   "execution_count": null,
   "metadata": {
    "colab": {},
    "colab_type": "code",
    "id": "-MrvfDjiDmud"
   },
   "outputs": [],
   "source": [
    "def directory(df):\n",
    "  if str(df)==str(t):\n",
    "    dir='/content/drive/Shared drives/OPIM5512 - Data Sci. w Python/Data/Final Results/Technology/'\n",
    "  elif str(df)==str(cd):\n",
    "    dir='/content/drive/Shared drives/OPIM5512 - Data Sci. w Python/Data/Final Results/Consumer Discretionary/'\n",
    "  elif str(df)==str(hc):\n",
    "    dir='/content/drive/Shared drives/OPIM5512 - Data Sci. w Python/Data/Final Results/Healthcare/'\n",
    "  elif str(df)==str(f):\n",
    "    dir='/content/drive/Shared drives/OPIM5512 - Data Sci. w Python/Data/Final Results/Financials/'\n",
    "  elif str(df)==str(u):\n",
    "    dir='/content/drive/Shared drives/OPIM5512 - Data Sci. w Python/Data/Final Results/Utilities/'\n",
    "  else:\n",
    "    dir='/content/drive/Shared drives/OPIM5512 - Data Sci. w Python/Data/Final Results/Consumer Staples/'\n",
    "  return dir"
   ]
  },
  {
   "cell_type": "markdown",
   "metadata": {
    "colab_type": "text",
    "id": "y-cxfxJImOkc"
   },
   "source": [
    "# DATA EXTRACTION"
   ]
  },
  {
   "cell_type": "markdown",
   "metadata": {
    "colab_type": "text",
    "id": "ntGGgP_Ie5wC"
   },
   "source": [
    "**DATA WAS EXTRACTED FROM YAHOO FINANCE DATABASE USING TICKERS**"
   ]
  },
  {
   "cell_type": "code",
   "execution_count": null,
   "metadata": {
    "colab": {},
    "colab_type": "code",
    "id": "rlfe5_smFLKS"
   },
   "outputs": [],
   "source": [
    "def dataextract(df):\n",
    "  one=str(df.iloc[0,0])\n",
    "  two=str(df.iloc[1,0])\n",
    "  three=str(df.iloc[2,0])\n",
    "  data1 = pdr.get_data_yahoo(one,start='2017-01-01')\n",
    "  data2 = pdr.get_data_yahoo(two,start='2017-01-01')\n",
    "  data3 = pdr.get_data_yahoo(three,start='2017-01-01')\n",
    "  return data1,data2,data3,one,two,three"
   ]
  },
  {
   "cell_type": "markdown",
   "metadata": {
    "colab_type": "text",
    "id": "9GB_2d6cHRaJ"
   },
   "source": [
    "# DATA IMPUTATION\n",
    "\n"
   ]
  },
  {
   "cell_type": "markdown",
   "metadata": {
    "colab_type": "text",
    "id": "8wK57F_dgOWY"
   },
   "source": [
    "**DATA WAS IMPUTED FOR CONSISTENT STOCK DATA DAILY USING FORWARD FILL AND BACKWARD FILL**"
   ]
  },
  {
   "cell_type": "code",
   "execution_count": null,
   "metadata": {
    "colab": {},
    "colab_type": "code",
    "id": "i0FXuS8fHQRC"
   },
   "outputs": [],
   "source": [
    "def dataimpute(data):\n",
    "  dt = datetime.date(2017, 1, 1)\n",
    "  end = datetime.date.today()-datetime.timedelta(days=2)\n",
    "  day=pd.date_range(start=dt,end=end,freq='D')\n",
    "  temp=pd.DataFrame(data=day,columns=['Date'])\n",
    "  temp\n",
    "  date=data.index\n",
    "  for i in date:\n",
    "      for x in range(len(temp)):\n",
    "        if i==temp.loc[x,'Date']:\n",
    "          temp.loc[x,'High']=data.loc[i,'High']\n",
    "          temp.loc[x,'Low']=data.loc[i,'Low']\n",
    "          temp.loc[x,'Open']=data.loc[i,'Open']\n",
    "          temp.loc[x,'Close']=data.loc[i,'Close']\n",
    "          temp.loc[x,'Adj Close']=data.loc[i,'Adj Close']\n",
    "          temp.loc[x,'Volume']=data.loc[i,'Volume']\n",
    "  #Imputation\n",
    "  #temp=temp.interpolate(method=\"linear\") #Another Method\n",
    "  temp=temp.ffill()\n",
    "  temp=temp.bfill()\n",
    "  temp=temp.set_index('Date')  \n",
    "  return temp\n",
    "\n"
   ]
  },
  {
   "cell_type": "markdown",
   "metadata": {
    "colab_type": "text",
    "id": "OGiHoUbyDrTq"
   },
   "source": [
    "# DATA VISUALISATION"
   ]
  },
  {
   "cell_type": "markdown",
   "metadata": {
    "colab_type": "text",
    "id": "HttrQ9qxhR-S"
   },
   "source": [
    "**DATA WAS PLOTTED AS LINE PLOTS,BOXPLOTS AND DENSITY PLOTS WITH HISTOGRAMS**"
   ]
  },
  {
   "cell_type": "code",
   "execution_count": null,
   "metadata": {
    "colab": {},
    "colab_type": "code",
    "id": "xEu1_hgCmYgr"
   },
   "outputs": [],
   "source": [
    "#for setting figure size\n",
    "from matplotlib.pylab import rcParams\n"
   ]
  },
  {
   "cell_type": "code",
   "execution_count": null,
   "metadata": {
    "colab": {},
    "colab_type": "code",
    "id": "djmj8JdfIjYe"
   },
   "outputs": [],
   "source": [
    "def graph(data,dir1,number,time):\n",
    "   rcParams['figure.figsize'] = 20,10\n",
    "   params = {'legend.fontsize': 'x-large',\n",
    "            'axes.labelsize': 'x-large',\n",
    "          'axes.titlesize':'x-large',\n",
    "          'xtick.labelsize':'x-large',\n",
    "          'ytick.labelsize':'x-large'}\n",
    "   rcParams.update(params)\n",
    "\n",
    "   figure, axes = plt.subplots(nrows=4, ncols=2,sharex=True)\n",
    "   figure.subplots_adjust(hspace=0.4, wspace=0.4)\n",
    "   x=list(data.index.values)\n",
    " \n",
    "   axes[0,0].plot(x, data['Volume'], color='blue') \n",
    "   axes[0,0].set_title('VOLUME VERSUS DATE')\n",
    "   #axes[0,0].set(xlabel='DATES',ylabel='VOLUME')\n",
    "   \n",
    "\n",
    "   axes[0,1].plot(x, data['High'], color='g')\n",
    "   axes[0,1].plot(x, data['Low'], color='r')\n",
    "   axes[0,1].plot(x, data['Open'], color='m')\n",
    "   axes[0,1].plot(x, data['Close'], color='c')\n",
    "   axes[0,1].plot(x, data['Adj Close'], color='y')\n",
    "   axes[0,1].set_title('PRICES VERSUS DATE')\n",
    "   #axes[0,1].set(xlabel='DATES',ylabel='PRICES')\n",
    "\n",
    "   axes[1,0].plot(x, data['High'], color='g')\n",
    "   axes[1,0].set_title('HIGH PRICES VERSUS DATE')\n",
    "   #axes[1,0].set(xlabel='DATES',ylabel='HIGH PRICES')\n",
    "\n",
    "   axes[1,1].plot(x, data['Low'], color='r')\n",
    "   axes[1,1].set_title('LOW PRICES VERSUS DATE')\n",
    "   #axes[1,1].set(xlabel='DATES',ylabel='LOW PRICES')\n",
    "\n",
    "   axes[2,0].plot(x, data['Open'], color='m')\n",
    "   axes[2,0].set_title('OPEN PRICES VERSUS DATE')\n",
    "   #axes[2,0].set(xlabel='DATES',ylabel='OPEN PRICES')\n",
    "\n",
    "   axes[2,1].plot(x, data['Close'], color='c')\n",
    "   axes[2,1].set_title('CLOSE PRICES VERSUS DATE')\n",
    "   #axes[2,1].set(xlabel='DATES',ylabel='CLOSE PRICES')\n",
    "\n",
    "   axes[3,0].plot(x, data['Adj Close'], color='y',)\n",
    "   #axes[3,0].set_xticklabels([])\n",
    "   axes[3,0].set_title('ADJUSTED CLOSE PRICES VERSUS DATE')\n",
    "   #axes[3,0].set(xlabel='DATES',ylabel='ADJUSTED CLOSE PRICES')\n",
    "  \n",
    "   axes[3,1].plot(x, data['Open'], color='m') \n",
    "   axes[3,1].plot(x, data['Close'], color='c')\n",
    "   axes[3,1].plot(x, data['Adj Close'], color='y')\n",
    "   #axes[3,1].set_xticklabels([])\n",
    "   axes[3,1].set_title('OPEN,CLOSE AND PRICES VERSUS DATE')\n",
    "   #axes[3,1].set(xlabel='DATES',ylabel='PRICES')\n",
    "\n",
    "   figure.savefig(dir1+'/'+time+'/VOLUME AND PRICES GRAPH '+number+' '+time+'.png')\n",
    "   plt.clf()\n",
    "   \n",
    "   figure, axes = plt.subplots(nrows=3, ncols=2,sharex=True)\n",
    "   figure.subplots_adjust(hspace=0.4, wspace=0.4)\n",
    " \n",
    "   sns.distplot(data['Volume'],ax=axes[0,0])\n",
    "   axes[0,0].set_title('VOLUME')\n",
    "  \n",
    "   sns.distplot(data['High'],ax=axes[0,1])\n",
    "   axes[0,1].set_title('HIGH PRICE')\n",
    "\n",
    "   sns.distplot(data['Low'],ax=axes[1,0])\n",
    "   axes[1,0].set_title('LOW PRICES')\n",
    "  \n",
    "   sns.distplot(data['Open'],ax=axes[1,1])\n",
    "   axes[1,1].set_title('OPEN PRICES')\n",
    "\n",
    "   sns.distplot(data['Close'],ax=axes[2,0])\n",
    "   axes[2,0].set_title('CLOSE PRICES')\n",
    "\n",
    "   sns.distplot(data['Adj Close'],ax=axes[2,1])\n",
    "   axes[2,1].set_title('ADJUSTED CLOSE PRICES')  \n",
    "  \n",
    "   figure.savefig(dir1+'/'+time+'/DENSITY PLOTS '+number+' '+time+'.png')\n",
    "   plt.clf()\n",
    "\n",
    "   figure, axes = plt.subplots(nrows=3, ncols=2,sharex=True)\n",
    "   figure.subplots_adjust(hspace=0.4, wspace=0.4)\n",
    " \n",
    "   sns.boxplot(data['Volume'],ax=axes[0,0])\n",
    "   axes[0,0].set_title('VOLUME')\n",
    "  \n",
    "   sns.boxplot(data['High'],ax=axes[0,1])\n",
    "   axes[0,1].set_title('HIGH PRICE')\n",
    "\n",
    "   sns.boxplot(data['Low'],ax=axes[1,0])\n",
    "   axes[1,0].set_title('LOW PRICES')\n",
    "  \n",
    "   sns.boxplot(data['Open'],ax=axes[1,1])\n",
    "   axes[1,1].set_title('OPEN PRICES')\n",
    "\n",
    "   sns.boxplot(data['Close'],ax=axes[2,0])\n",
    "   axes[2,0].set_title('CLOSE PRICES')\n",
    "\n",
    "   sns.boxplot(data['Adj Close'],ax=axes[2,1])\n",
    "   axes[2,1].set_title('ADJUSTED CLOSE PRICES')  \n",
    "  \n",
    "   figure.savefig(dir1+'/'+time+'/BOX PLOTS '+number+' '+time+ \".png\")\n",
    "   plt.clf()"
   ]
  },
  {
   "cell_type": "code",
   "execution_count": null,
   "metadata": {
    "colab": {},
    "colab_type": "code",
    "id": "bX05CQZ7pQ9r"
   },
   "outputs": [],
   "source": [
    "pip install https://github.com/pandas-profiling/pandas-profiling/archive/master.zip"
   ]
  },
  {
   "cell_type": "code",
   "execution_count": null,
   "metadata": {
    "colab": {},
    "colab_type": "code",
    "id": "IbOejseOqbWX"
   },
   "outputs": [],
   "source": [
    "from pandas_profiling import ProfileReport"
   ]
  },
  {
   "cell_type": "markdown",
   "metadata": {
    "colab_type": "text",
    "id": "CmvAmN9BCYjM"
   },
   "source": [
    "# CORRELATION MATRIX AND PAIR PLOTS"
   ]
  },
  {
   "cell_type": "markdown",
   "metadata": {
    "colab_type": "text",
    "id": "2yA7iDSPifHw"
   },
   "source": [
    "**PAIRPLOTS AND CORRELATION MATRIX  WERE PLOTTED.**"
   ]
  },
  {
   "cell_type": "markdown",
   "metadata": {
    "colab_type": "text",
    "id": "4EHp6EiPjGTX"
   },
   "source": [
    "**A DETAILED REPORT WAS MADE USING  GUI ON THE FEATURE SELECTION PROCESS.**\n",
    "\n",
    "\n",
    ">  **ONLY VOLUME CAN BE USED AS THERE IS SOME CORRELATION BETWEEN OUR TARGET,ADJUSTED CLOSE PRICE.**\n",
    "\n",
    "\n",
    ">**REST OF THE VARIABLES COULD DERIVE OUR TARGET EASILY.**\n",
    "\n",
    "\n",
    "> **NO MISSING VALUES IN THE DATASET**\n",
    "\n",
    "\n",
    "\n",
    "\n",
    "\n"
   ]
  },
  {
   "cell_type": "code",
   "execution_count": null,
   "metadata": {
    "colab": {},
    "colab_type": "code",
    "id": "SLMJjvQvusNH"
   },
   "outputs": [],
   "source": [
    "def datainspect(data,dir1,number,time):\n",
    "  pp=sns.pairplot(data,height=2)\n",
    "  pp.savefig(dir1 + \"/\"+time+ \"/Pairplot new \"+ number +\" \"+ time +  \".png\")\n",
    "  plt.clf()\n",
    "  correlation_matrix = data.corr()\n",
    "  sns.set(rc={'figure.figsize':(10,10)})\n",
    "  sns_plot1=sns.heatmap(data=correlation_matrix, annot=True)\n",
    "  fig = sns_plot1.get_figure()\n",
    "  fig.savefig(dir1+\"/\"+time+\"/Correlation matrix new \"+number+\" \"+time+\".png\")\n",
    "  plt.clf()\n",
    "  profile=ProfileReport(data)\n",
    "  profile.to_file(dir1+\"/\"+time+\"/Report new \"+number+\" \"+time+\".html\")"
   ]
  },
  {
   "cell_type": "markdown",
   "metadata": {
    "colab_type": "text",
    "id": "1N7u1EJe7ZS3"
   },
   "source": [
    "# DATA PREPROCESSING"
   ]
  },
  {
   "cell_type": "markdown",
   "metadata": {
    "colab_type": "text",
    "id": "PacBQA8klGk4"
   },
   "source": [
    "**NORMALISATION WAS USED TO THE DATASET BECAUSE WE DIDN'T HAVE ANY OUTLIER IN THE DATASETS**\n",
    "\n",
    "\n"
   ]
  },
  {
   "cell_type": "code",
   "execution_count": null,
   "metadata": {
    "colab": {},
    "colab_type": "code",
    "id": "3mwSktuS2YNa"
   },
   "outputs": [],
   "source": [
    "def datapreprocess(data):\n",
    "  scaler = MinMaxScaler(feature_range=(0, 1)) \n",
    "  scaled_values = scaler.fit_transform(data) \n",
    "  data.loc[:,:] = scaled_values\n",
    "  return data\n"
   ]
  },
  {
   "cell_type": "markdown",
   "metadata": {
    "colab_type": "text",
    "id": "sAv7MwlhmZrc"
   },
   "source": [
    "# DATA WRANGLING"
   ]
  },
  {
   "cell_type": "markdown",
   "metadata": {
    "colab_type": "text",
    "id": "vEPYrog_mjbA"
   },
   "source": [
    "**ALL THE ABOVE FUNCTIONS WERE RUN ON 18 DATASETS USING THIS FUNCTION**"
   ]
  },
  {
   "cell_type": "code",
   "execution_count": null,
   "metadata": {
    "colab": {},
    "colab_type": "code",
    "id": "8ypy7zrMUnCi"
   },
   "outputs": [],
   "source": [
    "def datawrangling(d):\n",
    "  dir=directory(d)\n",
    "  data1,data2,data3,one,two,three=dataextract(d)\n",
    "  # define the name of the directory to be created\n",
    "  comp=[one,two,three]\n",
    "  for j in comp:\n",
    "    p=dir\n",
    "    q=j+\"/\"+\"before\"\n",
    "    path=p+q\n",
    "    try:\n",
    "      os.makedirs(path)\n",
    "    except OSError:\n",
    "      print (\"Creation of the directory %s failed\" % path)\n",
    "    else:\n",
    "      print (\"Successfully created the directory %s\" % path)\n",
    "    q=j+\"/\"+\"after\"\n",
    "    path=p+q\n",
    "    try:\n",
    "      os.makedirs(path)\n",
    "    except OSError:\n",
    "      print (\"Creation of the directory %s failed\" % path)\n",
    "    else:\n",
    "      print (\"Successfully created the directory %s\" % path)\n",
    "  data1=dataimpute(data1)\n",
    "  data2=dataimpute(data2)\n",
    "  data3=dataimpute(data3)\n",
    "  dir1=os.path.join(dir, one)\n",
    "  dir2=os.path.join(dir, two)\n",
    "  dir3=os.path.join(dir, three)\n",
    "  time='before'\n",
    "  graph(data1,dir1,one,time)\n",
    "  graph(data2,dir2,two,time)\n",
    "  graph(data3,dir3,three,time)\n",
    "  datainspect(data1,dir1,one,time)\n",
    "  datainspect(data2,dir2,two,time)\n",
    "  datainspect(data3,dir3,three,time)\n",
    "  #datapreprocessing\n",
    "  scaled_data1=datapreprocess(data1)\n",
    "  scaled_data2=datapreprocess(data2)\n",
    "  scaled_data3=datapreprocess(data3)\n",
    "  time='after'\n",
    "  graph(scaled_data1,dir2,two,time)\n",
    "  graph(scaled_data1,dir3,three,time)\n",
    "  datainspect(scaled_data1,dir1,one,time)\n",
    "  datainspect(scaled_data2,dir2,two,time)\n",
    "  datainspect(scaled_data3,dir3,three,time)\n",
    "  \n"
   ]
  },
  {
   "cell_type": "code",
   "execution_count": null,
   "metadata": {
    "colab": {},
    "colab_type": "code",
    "id": "WGVzwvn-EQVh"
   },
   "outputs": [],
   "source": [
    "#datawrangling(t)\n",
    "#datawrangling(cd)\n",
    "#datawrangling(hc)\n",
    "#datawrangling(f)\n",
    "#datawrangling(u)\n",
    "#datawrangling(cs)\n"
   ]
  },
  {
   "cell_type": "markdown",
   "metadata": {
    "colab_type": "text",
    "id": "4VB2pwB9RtA4"
   },
   "source": [
    "# ***PART-II***\n",
    "\n",
    "---\n",
    "\n",
    "\n",
    "\n",
    "\n",
    "\n"
   ]
  },
  {
   "cell_type": "markdown",
   "metadata": {
    "colab_type": "text",
    "id": "y7hnB98RASL6"
   },
   "source": [
    "# MODELING FUNCTIONS"
   ]
  },
  {
   "cell_type": "markdown",
   "metadata": {
    "colab_type": "text",
    "id": "UwngmtCsnYNo"
   },
   "source": [
    "**FUNCTIONS WERE MADE FOR EACH MODEL TO GENERATE GRAPHS AND TRAIN,FIT AND TEST MODELS**"
   ]
  },
  {
   "cell_type": "code",
   "execution_count": null,
   "metadata": {
    "colab": {},
    "colab_type": "code",
    "id": "XsPYXS_x-NDI"
   },
   "outputs": [],
   "source": [
    "from sklearn.model_selection import train_test_split"
   ]
  },
  {
   "cell_type": "markdown",
   "metadata": {
    "colab_type": "text",
    "id": "FXsTCPJpk_FX"
   },
   "source": [
    "# DATASET PARTITION"
   ]
  },
  {
   "cell_type": "markdown",
   "metadata": {
    "colab_type": "text",
    "id": "jxPsUZonn1bO"
   },
   "source": [
    "**DATA WAS PARTITIONED INTO TRAINING,VALIDATION AND TESTING SETS**"
   ]
  },
  {
   "cell_type": "code",
   "execution_count": null,
   "metadata": {
    "colab": {},
    "colab_type": "code",
    "id": "-NfDlNxGo7Mr"
   },
   "outputs": [],
   "source": [
    "def datapartition(d):\n",
    "  dir=directory(d)\n",
    "  data1,data2,data3,one,two,three=dataextract(d)\n",
    "  # define the name of the directory to be created\n",
    "  comp=[one,two,three]\n",
    "  for j in comp:\n",
    "    p=dir\n",
    "    q=j+\"/\"+\"model\"\n",
    "    path=p+q\n",
    "    if not os.path.exists(path):\n",
    "      os.makedirs(path)\n",
    "    else:\n",
    "      shutil.rmtree(path)           \n",
    "      os.makedirs(path)\n",
    "    #try:\n",
    "      #os.makedirs(path)\n",
    "    #except OSError:\n",
    "      #print (\"Creation of the directory %s failed\" % path)\n",
    "    #else:\n",
    "      #print (\"Successfully created the directory %s\" % path)\n",
    "  data1=dataimpute(data1)\n",
    "  data2=dataimpute(data2)\n",
    "  data3=dataimpute(data3)\n",
    "  end = datetime.date.today()-datetime.timedelta(days=2)\n",
    "  y1 = data1[['Adj Close']]\n",
    "  X1 = data1[['Volume']]\n",
    "  X1_data=X1.loc['2017-01-01':'2019-12-31',:]\n",
    "  X1_test=X1.loc['2020-01-01':end,:]\n",
    "  y1_data=y1.loc['2017-01-01':'2019-12-31',:]\n",
    "  y1_test=y1.loc['2020-01-01':end,:]\n",
    "  X1_norm=datapreprocess(X1_data)\n",
    "  X1_test=datapreprocess(X1_test)\n",
    "  X1_train, X1_val, y1_train, y1_val=train_test_split(X1_norm,y1_data,test_size=0.3,random_state=0)\n",
    "  \n",
    "  y2 = data2[['Adj Close']]\n",
    "  X2 = data2[['Volume']]\n",
    "  X2_data=X2.loc['2017-01-01':'2019-12-31',:]\n",
    "  X2_test=X2.loc['2020-01-01':end,:]\n",
    "  y2_data=y2.loc['2017-01-01':'2019-12-31',:]\n",
    "  y2_test=y2.loc['2020-01-01':end,:]\n",
    "  X2_norm=datapreprocess(X2_data)\n",
    "  X2_train, X2_val, y2_train, y2_val=train_test_split(X2_data,y2_data,test_size=0.3,random_state=0)\n",
    "  \n",
    "  y3 = data3[['Adj Close']]\n",
    "  X3 = data3[['Volume']]\n",
    "  X3_data=X3.loc['2017-01-01':'2019-12-31',:]\n",
    "  X3_test=X3.loc['2020-01-01':end,:]\n",
    "  y3_data=y3.loc['2017-01-01':'2019-12-31',:]\n",
    "  y3_test=y3.loc['2020-01-01':end,:]\n",
    "  X3_norm=datapreprocess(X3_data)\n",
    "  X3_train, X3_val, y3_train, y3_val=train_test_split(X3_data,y3_data,test_size=0.3,random_state=0)\n",
    "  return X1_train,X1_val,X1_test,y1_train,y1_val,y1_test,X2_train,X2_val,X2_test,y2_train,y2_val,y2_test,X3_train,X3_val,X3_test,y3_train,y3_val,y3_test,y1_data,y2_data,y3_data,X1,X2,X3,y1,y2,y3,one,two,three"
   ]
  },
  {
   "cell_type": "code",
   "execution_count": null,
   "metadata": {
    "colab": {},
    "colab_type": "code",
    "id": "zBWxJsgVMEDx"
   },
   "outputs": [],
   "source": [
    "def plotdiff(test_data,predictions,dir,model):\n",
    "  plt.plot(test_data.index, predictions, color='blue', linestyle='dashed',label='Predicted Price')\n",
    "  plt.plot(test_data.index, test_data, color='red', label='Actual Adjusted Close Price')\n",
    "  plt.title('Adjusted Close Price Prediction')\n",
    "  plt.xlabel('Dates')\n",
    "  plt.ylabel('Adjusted Close Prices')\n",
    "  plt.legend()\n",
    "  plt.savefig(dir + \"/model\"+\"/\"+ model +\".png\")\n",
    "  plt.clf()\n",
    "  return plt.show()"
   ]
  },
  {
   "cell_type": "markdown",
   "metadata": {
    "colab_type": "text",
    "id": "FLh7L-HG-QKQ"
   },
   "source": [
    "# LINEAR REGRESSION"
   ]
  },
  {
   "cell_type": "markdown",
   "metadata": {
    "colab_type": "text",
    "id": "xa-Rhfb_xIY9"
   },
   "source": [
    "![image.png](data:image/png;base64,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)"
   ]
  },
  {
   "cell_type": "markdown",
   "metadata": {
    "colab_type": "text",
    "id": "mgtu_UCkxZ_a"
   },
   "source": [
    "Linear regression quantifies the relationship between one or more predictor variable and one outcome variable. "
   ]
  },
  {
   "cell_type": "code",
   "execution_count": null,
   "metadata": {
    "colab": {},
    "colab_type": "code",
    "id": "bFM9fXN29giQ"
   },
   "outputs": [],
   "source": [
    "from sklearn.linear_model import LinearRegression\n",
    "from sklearn import metrics"
   ]
  },
  {
   "cell_type": "code",
   "execution_count": null,
   "metadata": {
    "colab": {},
    "colab_type": "code",
    "id": "oF3wiYOzuUx6"
   },
   "outputs": [],
   "source": [
    "def linear(X1_train,X1_val,X1_test,y1_train,y1_val,y1_test,dir):\n",
    "  linear=LinearRegression()\n",
    "  linear.fit(X1_train,y1_train)\n",
    "  y1_pred1=linear.predict(X1_val)\n",
    "  y1_pred=pd.DataFrame(linear.predict(X1_test))\n",
    "  mse=metrics.mean_squared_error(y1_val,y1_pred1)\n",
    "  rmse1=np.sqrt(mse)\n",
    "  model=\"LINEAR REGRESSION\"\n",
    "  plotdiff(y1_test,y1_pred,dir,model)\n",
    "  return y1_pred,rmse1\n"
   ]
  },
  {
   "cell_type": "markdown",
   "metadata": {
    "colab_type": "text",
    "id": "L-WvyuJCPrE5"
   },
   "source": [
    "# LASSO REGRESSION"
   ]
  },
  {
   "cell_type": "markdown",
   "metadata": {
    "colab_type": "text",
    "id": "i6--BrvXxpJ7"
   },
   "source": [
    "![image.png](data:image/png;base64,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)\n",
    "                           \n",
    "                     "
   ]
  },
  {
   "cell_type": "markdown",
   "metadata": {
    "colab_type": "text",
    "id": "qEnGEvg3yUSw"
   },
   "source": [
    "Lasso regression is a type of linear regression that uses shrinkage."
   ]
  },
  {
   "cell_type": "code",
   "execution_count": null,
   "metadata": {
    "colab": {},
    "colab_type": "code",
    "id": "F1a3YHG-_Pgd"
   },
   "outputs": [],
   "source": [
    "from sklearn.linear_model import Lasso"
   ]
  },
  {
   "cell_type": "code",
   "execution_count": null,
   "metadata": {
    "colab": {},
    "colab_type": "code",
    "id": "yRRUY4FwGNf0"
   },
   "outputs": [],
   "source": [
    "def lasso(X1_train,X1_val,X1_test,y1_train,y1_val,y1_test,dir):\n",
    "  lasso=Lasso()\n",
    "  lasso.fit(X1_train,y1_train)\n",
    "  y1_pred1=lasso.predict(X1_val)\n",
    "  y1_pred=pd.DataFrame(lasso.predict(X1_test))\n",
    "  mse=metrics.mean_squared_error(y1_val,y1_pred1)\n",
    "  rmse3=np.sqrt(mse)\n",
    "  model=\"LASSO REGRESSION\"\n",
    "  plotdiff(y1_test,y1_pred,dir,model)\n",
    "  return y1_pred,rmse3\n"
   ]
  },
  {
   "cell_type": "markdown",
   "metadata": {
    "colab_type": "text",
    "id": "MjoFx9VuPvx3"
   },
   "source": [
    "# ELASTIC NET REGRESSION\n",
    "\n",
    "\n"
   ]
  },
  {
   "cell_type": "markdown",
   "metadata": {
    "colab_type": "text",
    "id": "gjio78j8zv9w"
   },
   "source": [
    "![image.png](data:image/png;base64,iVBORw0KGgoAAAANSUhEUgAAB1MAAAEKCAYAAABHf3wIAAAgAElEQVR4nO3dWZbkSK4lwNr/prM/sv3FkDZw0OECFDnHP/qVuRIEAZBGTY/+3z8AAAAAAAAA/Mf/dgcAAAAAAAAAkMhmKgAAAAAAAMALNlMBAAAAAAAAXrCZCgAAAAAAAPCCzVQAAAAAAACAF2ymAgAAAAAAALxgMxUAAAAAAADgBZupAAAAAAAAAC/YTAUAAAAAAAB4wWYqAAAAAAAAwAs2UwEAAAAAAABesJkKAAAAAAAA8ILNVAAAAAAAAIAXbKYCAAAAAAAAvGAzFQAAAAAAAOAFm6kAAIH+97///d8PAAAAAKTq/h6r51kBABTz+0Pn3z8AAAAAkKr7e60eZwEAUFT3h00AAAAAnqHre67a0QMAFNXxwRIAAAAA/vmn17uvmlEDABTV6UESAAAAAD7p8C6sVrQAAIV1eHgEAAAAgLMqvxOrEykAQGGVHxgBAAAA4K6q78dqRAkAUFzFB0UAAAAAGKniO7IaUQIAFFbxIREAAAAAZqj2riw/QgCAwqr+8yUAAAAAMEO192XZ0QEAFFfpwRAAAAAAVqj0ziw7OgCAwqr9V3YAAAAAsEKl92a5kQEAFFflgRAAAAAAVqvy7iw3MgCA4qo8EAIAAADAalXeneVGBgBQXJUHQgAAAABYrcq7s9zIAAAKq/T/7wMAAAAArFbl/VlmVAAAxVV4EAQAAACAnSq8Q8uMCgCguAoPggAAAACwU4V3aJlRAQAUV+FBEAAAAAB2qvAOLTMqAIDiKjwIAgAAAMBOFd6hZUYFAFBchQdBAAAAANipwju0zKgAAIqr8CAIAAAAADtVeIeWGRUA/yf5JgJ3da7tCg+CAAAAALBThXdomVEBEH8DgRE613mFB0EAAAAA2KnCO7TMqAAerMLNA0bqWvNdzwsAAAAARqnwDi0zKoCHqnDjgBk61n7HcwIAAACAkSq8Q8uMCuBhKtwwYIVOvdDpXAAAAABghgrv0DKjAniQCjcLWKlLT3Q5DwAAAACYpcI7tMyoAB6iwo0CdujQGx3OAQAAAABmqvAOLTMqgAeocJOAnar3SPX4AQAAAGC2Cu/QMqMCaK7CDQISVO6VyrEDAAAAwAoV3qFlRgXQWIWbAySp2jNV4wYAAACAVSq8Q8uMCqCpCjcGSFSxdyrGDAAAAAArVXiHlhkVQEMVbgqQrFoPVYsXAAAAAFar8A4tMyqAZircEKjh6bVU6fwrxQoAAAAAO1R4h5YZFUAjf98MUm8IZHtVR0+sp0rnXyVOAAAAANilwju0zKgAGqlwMyDbp43UJ9ZVlXOvEicAAAAA7FLhHVpmVABNVLgRkO3IRuoTa6vC+VeIEQAAAAB2qvAOLTMqgAYq3ATIdnQj9Yn1VSEH6fEBAAAAwG4V3qFlRgXQQIWbALm+1Y/6ys9BenwAAAAAsFuFd2iZUQEUV+EGQLYjtaPOsnOQHBsAAAAAJKjwDi0zKoDCKvzzo2Q7UzdPr7PkfkuNCwAAAABSVHiHlhkVQGEVhj+5ztaNOsvtudS4AAAAACBFhXdomVEBFJX8V3LUcLZm1Flu3yXGBAAAAABJKrxDy4wKoKgKg59sNlOvSey9xJgAAAAAIEmFd2iZUQEUlPrXcdRxpWbU2r8S+y8tHgAAAABIU+EdWmZUAAVVGPr0o95+SevBtHgAAAAAIE2Fd2iZUQEUVGHo0496+yWtB9PiAQAAAIA0Fd6hZUYFUEyFgU9Pau5PSb2YFAsAAAAAJKrwDi0zKoBiKgx8elJzf0rqxaRYAGYy4wAAALJU+p5W4R1aZlQAhfw97FMHPj2puT8l9WNKHACzmHEAAACZKn1fq/AOLTMqgEIqDHt6UnevpfRkShwAoyX9hysAAAD8V6XvbBVizYwKoJAKw56e1NxrKT2ZEgfASDZSAQAAaqjy/a1EjLsDAKiuwrCnHzX3XkpPpsQBMJK5BgAAUEeF91MlYtwdAEBlFQY9/ai77xJylBADwEhmGgAAQD3p76jS4/vnH5upALdUGPT0UuWf59gtIUcJMQCMYp4BAADUlfyeKjm2H5lRARRRYdDTi83UYxJylBADwCjmGQAAQG2p3+sqvEPLjAqgAJtarPaq5tTde7tz5DoBXZhlAAAA9aW+q0qN63eZUQEUUGHI08e7jVS1997uPO0+PsAoZhnwBJ61gQRmETBb4mypMPMyowIooMKQp4dPG6lq773dedp9fIARzDGgu2/P2mYgsIJZBKySOFcSY/pbZlQABVQY8tTni9R1u3O1+/gAI5hjQGdHNy/MQWAmswhYLW2mVJhzmVF94YYCJDB7WME977rdudp9fIARzDGgq2/zzfM3sIJZBOyQNlPS4nklM6ovvFgGdjN7WOHTfU7dHbOzT80IoDpzDOjsyGzzvQ+YzSwCdkibKWnxvJIZ1QdH/qmD1GQDfZg5zPbtHqf2jrGZCnCdGQZ0dnS2eecEzGQWATukzZO0eF7JjOoDm6lAAjOHmY7c39TeMTZTAa4zw4Cuzsw175yAWcwiYKekeVJhvmVG9ca3v86pkHCgB/OGWY7+h0Jq7xibqQDXmGFAZ2fnmpkIzGAWATslzZSkWN7JjOqNIy+V0xMO9GDeMMvR/0BI7R1jMxXgGjMM4BczEUhgFgEjJc2UpFjeyYzqhSPJtKEKrGLWMMOZf2lB7R1jMxXgGjMM4BczEUhgFgEjJc2UpFjeyYzqhaOJrJB0oD6zhtGubKSqve9spgJcM2uGnVnTDIUM+rbvebGPvjpPzvqeF7BH0nurpFjeyYzqL1eSmJ54oK4Kw51a3m2k+qvUMXb1rFkBVDZjhp1Z0wyFDPr2X13Piz301Xly9q+u5wXskTQvk2J5JzOq39xJYHrygZoqDHfqOLuR+vvvcIzNVIBzztyT7qw76rPAPPq273mxj746T876nhd7nKkldfevjjmb9b1vRCyJMqP6zd3kJSf/R3p85FArGSoMd+o4u5H6++9wjM1UgHNspgI/9G2dF6LUoa/OkzOziHH003ldc2Yz9ZzMqP6/UYmLvgDBsZFHvWSoMNyp4cpG6u+/xzE2UwHOsZkK/NC3nr0ZT1+dJ2dmEePop/O65sxm6jmZUT1AemGQS+3sV2G4k+/qRurvv8sxNlMBzrGZCvx4et92Ox8yPL2vrnh6zrqdD3s9vZ+u6Jozm6nnZEbVXHpRkE8N7VVhuJPt3UaqzdQ5bKYCnGMzFfjx9L7tdC7keHpfXfH0nHU6F/Z7ej9d0TVnNlPPyYyqsfSCoA61tE+F4U6uuxupv6/BMTZTAc6xmQr8eHLfdjkP8jy5r656cs66nAc5ntxPV3XNmc3UczKjaiq9GKilwoDpSu65asRG6u/rcIzNVIBzRtyrjqw76rPAPE/t2w7nQK6n9tUdT81Zh3Mgz1P76Y6uObOZek5mVA2lFwI1VRgyHck7V43cSL3ye7NiSmczFeAcm6nAjyf2bYdzINsT++quJ+aswzmQ6Yn9dFfHnKW9D0yJ45PMqJqpUAjUpb7Wk3OuGPWQMmoz9V08HevbZirAOTZTgR9P7Nvq8ZPviX111xNzVj1+cj2xn+7qmLO094ApcXySGVUjFYqA+tTZWvLNWSM3K6/87t+fP7qR2qXGbaYCnGMzFWqa8Vz3tL6tHDt1dO8rs+i+yrGT72n9NELHnKW9A0yJ45PMqJqoUAD0oNbWkm/OGL1Jefb3//7st99Pe5gawWYqwDk2U6GOI5sWd/r5SX1bNW7q6dhXZtE4VeOmjif10ygdc5b2/i8ljk8yo7po5E16Rjwwk3pbR645asb96OoD3N//t7NxV7brXDrlEHiWWd+lOr6EgF3O9OidZ9Kn9G3FmPmlWu116iuzaKyKMfNLldrr3k+fZs3V8+iYs1nf+UbFkygzqhOONMeOoqhw8eklafh1J88cNeMedHS9d//70eN3mim7zqNL/oDnmfUdquNLCK67+l1+1Hf+VccZ7WoMV8/hCX17Jd5q59hVUm+e0aGvzKLxzKK6qs2ijv00+znuSTlLiSdRZlQHnLnQqwdaUhHyLOpujep5rhp3NbPuO3ceDO88KFaumV3n0SV/wPOsuoeN+iy1XX35NbJGVh3nrrvxXDmn7n17J4/sld6vn1TvK7NoPLOoroqzqFM/ncn3nWvUKWc/0uo1JY5PMqP64OoFXjnQKlx4ekoagJ1VzLHaWGvmPefIg/q7Y939klvVrvPokj+oTB9eM+s+1vElBGOceb7Z9Yy124iYrpxf577dXXNcV/0aVe4rs2g8s6iuqteoQz9dzfPV69QhZ79LrNeUOD7JjOqNuxd3RYEkFSDPpAbnq5TfxJtjdytyvuphvUvN7DqPLvmDiqq90Eg0I3fdXkIw1pHnm13PWLuNjOnsOXbt2zv1VuH8Outwjar2lVk0nllUV+VrVL2f7ub4ynWqnrO/JdZqUizvZEb1woiLu2KopRUhz6MG56uQ34oPcx2syveqa9ulZnadR5f8QUXugffNyF23lxCMd+QZ9mnf52f34bc1O/bt1TqrcG7dfbsOVa5Txb4yi8Yzi+qqPosq99OIPrjSU5Vz9kriTEmK5Z3MqP4y8sLOLJS0AuSZEodhN8m59dD9LLOvaZd62VX7eg72cB8cY0beur2EYI4zz7Ozv9PvtqIPn/bykNq61GG1vjKL4E/V67BqP42cQ0+fQYnfkZNieSczqt/svlnvjBWuUotzJeb23Wz79APfdKmXXbWv52AP98ExVrw4HfVZernyXDuqTpLqbtU5Pu3lIXWdqav0OqzUV2YR/KnDLKrYT7O/lzxtBiV+R06K5Z3MqP6/FV/gdz0E8Cyra0E9zpWW13dxvKuDlLjJ1qledp1LpxxCJd/uf3rymBXfxUZ9ln6O9vGu+lxh5fuQJ708pKazNZVeg5X6yiyCX7rMomr9tHIOHf38mbUTJX5HTorlncyo/qm36ZlYgGTYUQvqca4qef30BSU5bjJ0qpVdta/nYI9v9z89ecyKlxajPktPR3t5VK0k1dvq9xZPenlITWfrKb0Gq/SVWQR/6jKLKvXT6jl09PNn1k6U+B05KZZ3MqP6J+e/fNoVK310u9lQY7j/mDX36K9TneyqfT0H+3y6/+nHY1Z8bxr1WXr61scjezyt1la/OHzSy0NqOltP6TVYpa/MIvhTl1lUqZ9WfCd54gxK/J6cFMs7kVEl3ax3xkt93W42/KtSTmfNPXrrVie7al/PwT6f7n/68bjZ35tGfZa+vvXyiB5PrLOk9yH6lt2u1FJ6DVbpK7MIfuk0i6r006zvclfmUJWcHZX4HTktnlcio0pqlJ3xUt/OelCX81TK6ay5R2/damRX7es52E8f3jP7e9Ooz9Lbp+fZu8+6iTWW9j5E31JReg1W6CuzCO5LrcEq/ZQ0h6rk7KgZeR0dU6LIqFKaZOe61Le7HtTmPJXyqQ44q2N9pLyAAKhm9nenUZ+lt0/Ps3efdRNrbPWLw7O/N+qzMFN6DVboK7MI7kutwSr9tHIGjcxDhRmU+J44LZ5X4qJafbMe/UIg+WKz1u6amFXz7L+2Z6gDzuhaGykvIACqmf3dadRn6e/TM+2Il2IpEt+H6FsqSq/B9L4yi2CM1Bqs0E9pc6hCzs5IfE+cFs8rcVGtbpTUdaktpSbU5xyV8nnny8pu1eKtrnOuUx7+AaoZ/fzQ7SUEa316rj37zJtaWzOe2+9+H9C3Ncj9n9LzkN5XZhFXyf2fUvNQoZ9mvcu8um6FnJ0xI7ejY0oUFdXqJtn9IEBPSTWhRueolMvKNVAt3uo65znl4R+gmtnfn0Z9lmf49Fx75pk3ua5Wvre4+vujPstYcv+n9Dyk95VZxFVy/6fUPKT306z3mHfekabn7KwZ+R0dU6KoqFberHc3ID2l1URaPF1UymXlGqgWb2Xdc5zy8A9QzezvT7M+e/Vn1PrMc/faJl+nle9D7qwx6rOMJfe/VMhDcl+ZRdwh978k5yG9n1bOoaPrpufsirQ40+J5JSqq1Bv22bV3X+xPcc2I7czau/M1Kzff1t1VE2nxdFEpl5VroFq8VT0hvwkP/wAVjZ5lM19CHHkeH/FMVPnZqos71zn5es2oqxHrzexbxpH7XyrkILmvzCLukPtfknOQ3k+r5tCZNdNzdkVanBW+X8VElNgkV9ffdaHPfJFc/TC0Ip6zsY6I5cq6K889rUa7qJTLyjVQLd6KnpLbHbWkfoEORs+yM+utejYfcR7m/Fqp373uGh3rjnUq5Lkruf9XlRwk95VZxB1y/6/0HCT304xntxFrJufsqsQ4E2P6XUxEqxpllKQvZ9+OOzrWs2t9O/7M3M3Mzdnz2lEzSXXaSaU8Vr7+1eKt5s7DYzU7akn9Ah2MnmV3nrWvHmPG83DF56pu0r533TXy++ir/21kbKM+y1hyXysHqX1lFnGX3NfIQXI/zXh+G7Fecs6uSowzMabfxUQ0ulFmJz7lC9qZY96J99v5vlrn6O/Myt+q3Bxda4eUOu2mUh4rX/9q8VZyJaeVr0PCwz9ARTOfz2e+hJj9vcOMz7Dzu+ZoZ2Pd9b16Zt9yz9NzX6XXf6T2lVnEXU/PfZVZlNxPo+fIjnUq1MCPtDjTcxcR0ZUm+fQ7K5I++yHhbAxXfufsw9G33/99jSNrz3zYWpWbM+vsMDPHT1Ypj5Wvf7V4q/g2FzrOjdXn0CFnAP/8YzN1RmyM0+lZ5kqsq855Vd9yz9NzX6XXf6T2lVnEXU/PfZVZlNpPI2fQ6NhTc3ZXWpzpPRQRzdlGWXGTvhrzqgt853h3Y//2+2fWm5HHnbn5tMYuu2u1o0p5rHz9q8VbwdH7Z+W6eWX1OSTnLOk633lemBVH17q/8jujzz8htzOPOzLfKTW3og5mHn/mvS3tWj1Zh+eZGTGOXG9l33Ldk3Nfoc//lthXZhEjPDn3lWZRaj+dzeHK577UnN2VGGtiTD8iorlS6Lu/KK0+3rtj3/39q/GPzPvIPCbnZpedtdpVpTxWvv7V4k135r5ZtWbeWXkeaXlLvO5njjErrqR8jHYl5lnnnpLXmcebme/d9bYiX6M+e+T3Z9U2+1Wf5yvvcyPWGvVZxnpq7iv0+CuJfWUWMcJTc19tFqX205Ucrnr2S83ZCGmxJvfR9khW3axH2zUkRx3rbvwjz3/UWum52WVlrZ65ga38mX2eyXbNqhGqxUuuVbWU1mdpc/Ts+rPiOrNOpRl6JdaZ9ZB4vx55rLR8zzAjhjPnNqvf7+Y44drwp2q99bfVc+ruOqM+y1hPzH2VHn8lsa/MIkZ4Yu4rzqLEfpqRv5HrJeZslMRYU3tpexSrGmVkwncOydk5Orru6HMfsV7X3Ny1sl6/HWvXz2gp1/aIXbNqhGrxkmtFLSX12NW+nzFPr87pGTN+9H19973oTGwzzmtWvnbmZObau/Ny1qxjnzmvldfs6iwhR5XeOhp30tqr+5Zrnpb79N7+Jq2vzCJGeVruq86ixH6akcORaybmbKTEeBPzuD2KWcNmx4PAigs7e5gcXXv0uY9Yr2tu7lpZr9+OtetntJRre8SuWTVCtXjJtXom7KzZuz0/ap7emdMzZvyI65N0L7p77Fn31hHrXs3VzGMk5Ht0DZ0551nrflt71PmPzu+ua8J3FXrraMwz1747A0d9lrGelvvkvj4ira/MIkZ5Wu6rzqLEfpqVw1HrJuZspMR4E/tq69F33Kxnrr16qIxc6+zao8/97nqdc3PXynr9dqxdP6OlXNsjdsyqUarFS64dc2+HUf0+6j54dL2zn911X065F93J76vP3znXb79zde3VOZm19pnjrqyhb2Ye88w5jTr/WfOEPLvn88iYZ659dv0dfct5T8r9p7qucv5pfWUWMcqTcl95FqX1044ZdHedUZ9Nkhhz2vP74zZTR6z/ae2ZF/PbcUf+XI1l9LnJzX276rWzSjmsfO2rxUuulc8ZO42MafTsOHovenWMO/exVc8rqdf+XX6Pxntl3dFrXzVz/SNrXz1ewnPbzOPd6d9Rx7yT35Se57Uz1zphhs+OZdT57uhbzntK7o/ef9Ml9ZVZxEhPyX31WZTWTzPnkBl0XHLMKc/wNlMHrz3zIn477sifq7GMPje5uW9XvXZWKYeVr321eMk1spZSe2p0XDPuHd/W+7T+1VhWPa9UqIGrMY58Rjob810z179TzzvjPnPs2euf7d+Rx72S4x29fibulT+JKp7X7DhGneuuvuWcJ+T+SE1XOf+kvjKLGOkJue8wi9L6aeYcMoPOSY474Tl+W1aq3KzPrr1yqOw0+tzvrNc9N7Pi2R1XZZVyWPnaV4uXXCNqKb2XZsQ3es1v631b+2wcO54Dd/p2v59x3WavfdeutdN678pxVxzjbA+PPO6VHO/o9TNxr/xJ83dsVc5rdhyjznVX33JO99wfrecq55/UV2YRI3XPfZdZlNRPZlCe9Nh3Ps/bTB289qyLtqM4zsZzJ6Y763XPzax4dsdVWaUc7rr23+pu188TzjHxZ7c78aSe099m5H/0miNq5epnR1671Fqf1Yeze3xmPnetPTMnM+psZR2fOdbqa/btWDt6/UzMK3+SvIsr/dxWHH/Uee7s26fY3dO7++GIozEmxv5KSl+ZRfxu98wxi9ZJ6qfZ190MuqbKOayeGzZTB68962Kl3UxGn/ud9brnZlY8u+OqrFIOd137Kw/IK346n1v6z053Ykk5h29m5H70mqvrZNYxUmt9ZkzWXrv2ivXfHWe2M8db3bufjrWrx+/ee2f9JDl63dLOb0d/Xz3Ozr59it09nd7rZ+JLi/2dlL4yi/jd7pljFq2T1E+zr7sZdF2181gR65YsVLpZn1171sVKu5mMPvc763XPzax4dsdVWaUc7rr2dx+WZ/10Prf0n53uxJJ4Pq/MyP3oNVfWyM45sMvMmKy9du0V6786zgpnzmV1Xj8dL6HH+a9v1+Xss8rOXki+F+7u2ye4WquzfxKciS0t9k9S+sos4ne7Z45ZtE5KP5lB+dLPY/XcsJk6eO1ZFyvtZjL63O+s1z03s+LZHVdllXK469pfeUBe8dP53NJ/dhoRS+q5/W50bKPPeWWN7JwDu8yMydpr116x/rvjzHbmeKvz+u54Cf3Nf12to7PXf3bsFe6Du/v2Ca7W6eyf3c7GlhL3EQl9ZRbxt90zxyxaJ6WfKs2hlJytlHoeO+eFzdTBa8+6aGk3lNHx3Fmve25mxbM7rsoq5bDyta8WL7lWPQckWPW8k7DezmMlztZdz77Wrl9jK2v4zLFmxfXt2fjv4yX0N386e02OXvNVvbDieCPPK6Fv+a5b7q/UcKVzT+grs4gZuuW+6yxK6adKcyglZ6sknsOO5/b/xLDsSD8HLNQkV9afdfF2F8rseO6s1z03s+LZHVdllXJY+dpXi5dcs2qpam8dMePesXIe7XwW3GVmTNZeu/aK9b8dc8Uxvh1n9ex+l+uE/uaXK9fjzDXf0QczjjfyvBL6lu+65f5K/VY694S+MouYoVvuu86ihH4yg3Klxb76Wf1jLMsPWKxRzq4/60ImFc2MeO6s1z03s+JZ3Xs7f0ZLubZHrJ5VI1WLl1w75l5Fs+fqzjk9+liJs3VmTNZeu/aK9Y8cd/b6344x67xTnie55uo1SbnuK44z+/496rOM1Sn3V+u30rnv7iuziFk65b7zLErop2pzKCFnK6TFveoZ/XA8yw9YrFHOrj/rYsYVzuB47qzXPTez4lndezt/Rku5tkesnlUjVYuXXLvu01Wsmqs75/ToYyXO1pkxWXvt2ivWP3rsmWt/W3/meSc8T3LezPvQqmu/8xij8jbqs4zVJfd3arfSue/uK7OIWbrkvvssSuinanMoIWezpcWc+J1saQTVmuTKMWZd1JXHO7Lm6FhG3KS65uaulfX67Vi7fkZLubZHrJ5VI1WLl1yraqlSnx2Zm6Pnx845Pfp4ibO16vlae8/6R489c+1v6888793Pkpw34nqcve4ra2/2+iPzNuqzjNUh93frt9K57+4rs4hZOuT+CbNodz/tfOa6epzdOVshLebEPNpMHXyMWRd21fGOrjn7oejKTaprbu5aWa/fjrXrZ7SUa3vE6lk1UrV4ybWyltLr9sxMGD0/Oj07Jc7VHedr7Xl1sPv+Pet4Z85l9fPc7pzz3qre3dXXI804RlLf8l713I/ov0rnvrOvzCJmqp77p8yi3f20cw5dPc7unM2WFm/qd7JWm6mzv/zsOtbKYx5db3Qco25UHXNz145a7a5SHitf/2rxkmtlLaX22pVZMPvLx+wczTxe4lzdcb7WnlcHu+/fs4535lxmn/enHCf19tOt7N3ZdTC7vmbFntS3vFc596Nqt9K57+wrs4iZKuf+SbNodz9VnEO7czZbUrwza+OuZZHMbpJVx/h2rJkX99MxRz5Q3Ynl7rGvrtc5N3ftqNXuKuWx8vWvFi+5VtdSUu3emQGj58fqeTTreKkzdcVzkLXXrL1i/bMxzFjz27q750RKbz/dijo8+jPruKOsinvUZxmrcu5H1O6d35sRz5Hj7uors4iZKuc+aRatfgYe9dkrx14xY0cco/MMSos1OX9tNlPfrb9q6Ky4wJ+OOXIo3Inl7rGvrtc5N3ftqNXuKuWx8vWvFi+5VtdSSr/NvLeOjGfXs9PoNXebmV9rr117xfpnY5ix5rd1V5z3pzyn9PaTzbwOR659pXvHynk06rOMVTX3o2r36u/+/vnZc+BdvCv7yixitqq5T5hFK59Fd/bTrjk0en6O+myCtFiT89d+M3WWFQ9XV4579dhnf3/0eY9Yr2tu7tpRp91VymPl618tXnLtqKXd9Tv7vjoyptn5WXEeCWbm19pr116x/pUYVq+56rw/5Tqlv59o9nX4dt1X3QNnnssoiX3Lf1XM/cg+u/K7v39+xRx4F+/KvjKLmK1i7tNn0Qw7+2n1rKg+t2dLizUtnpFCU90AABSDSURBVL8tiahqk1w55uxjz3iwuzPoR5336PPolJs7dtVpd5XyWPn6V4uXXDtqaWf9jur50fNj1zwaedzkWTozv9Zeu/aK9a/EMXq9b2uuOu+UXPPLqmvx7btShXvgitpN7Fv+q1ruZ/bYmc8f+d0VvTvqs2ePaxYxWrXcJ82idzHNkDaDRpm5ftcZlBZneu7Kb6auuGGfOe6K43879tXGPhP36PMetV7V3Myqm5112lmlPFa+/tXiJdeOWtpVvyP7ffT82D2P7h4/fY7OzK+11669Yv0rcYxe7+zz+CwpueZfK6/Fp2v/7Wf0cUbGP1pi3/JflXI/Y+5erdPf/99nY75jR1+ZRaxQKfdps+jKGqvjHD37Rp7j7FnUdQalxZmeu62bqckNeOf4K2I48hB09mfE8Uefz8i1dufm3Torb47Jw6iSSrmsXAPV4iXXjlpKejYYvd6M+/MqV2LYHfNRM/Nr7bVrr1j/ahwr11t53rvzzLyX/HePOSKeVWvOktq3/KlS7mf0+NH1Xv3vR489MuYdfWUWsUKl3KfNondrzLCrn0bMnTPrjtRxBiXGmRjT76ZHNPImfWTdlWYNgLvHvvIz6vijz2fkWqty8y2Gd5+bYWeNdlYpl5VroFq85NpVSyuPO6PXd90bZ9vxXLDCzJitvXbtFetfjWPlertnKGvsmMF37wNnY/r0e2fX3DEXUvuWP1XJ/Y778qfjnTn2yLh39JVZxApVcp82iz6tMUPSDLq79qp51HEGpcWZFs8rEZupZxO0+oZ9Jo6V8Zwd0KNiTV/vyJqzcnP1+LPsrtGuquRyZ+2NUClWsu2qpZXHndHjK+/Nq7w6ZvVZ+WNm/NZeu/aK9a/GsXK91eddse8rOzJ7R87nUcc7G8vRz84897uS+5ZfKuR+133507HOHntU3Kv7yixilQq5T5xFn9aYYUc/zZgrK2dSxxmUFmdaPK9s20z99r+dXWuHhIeJb3GMfuhZMfRG5nNlbq4ed6aUGu2mQi5TavCOKnGSb1ctrTrujntZwnp3jt/RzPxae+3aK9a/GsfK9Vafd/cZwR5X+jil/9/FM+qzR35fTx6XnrMVdf3pGDvuY6PWmfkcfuV3zCI+Sc9ZhVm0Ioc74vmUi7N52tGjaddwhLQ40+J5ZWpURwv7yJBJTWZKfDNzeGXt0df7Tm531VdCHafUZzeJ+bzbV2nn888/mXmmpl21tOq4s/p59Lop98OuZubX2mvXXrH+nThGrjfqsyM8YU6wVkIPj7Cib6t9T0mUnKtV13RF/Yxac+X9sEs/mUU1JOeqyixakcPVz+RHc3G0B3fU2OqczZY429LieSViM/XI78QmMDDexJhS7MhN0qBXB2PIJ9SSMoNXHWfUMUevu+v55Ckze2Z+rb127RXr34lj5HqjPnvXE2YE6yX08Aiz+/bTvOuQP9abWTMV74ddesksopqrNbOi1lY/k1/po7T+W5WzHd9/UuZaWjyvTIsqqdhnSmts+KE255FPqGVXz6467qx5P3rdHfelJ83rmfm19tq1V6x/J46R64367F1PmROsldDDI8zs22+f7ZJD+qh4P+zSR2YRT7Gizsyg81bNoB3ff1KuSVo8r9hMHeBJ50od6nIeOYVadvXsquO+m/ejX/LcXXdWnGeO19nM/Fp77dor1r8Tx8j1Rn32rqfMCdZJ6N9RZvbtlTWr5pH6Kt4PzSKziHp2fFeeGU+XOTQjZ7//76tzlHhN0uJ5xWbqAE86V+pQl/PIKdSyq2dXHffdvL9z3NVrzvC0e+DM/Fp77dor1r8Tx8j1Rn12VEwwSkL/jjKzb4/mpEsuqW3mc8Soz3773cr9YxbxFDu+K8+Mp8scWpGzlTlKvCZp8bwyJaouTXLU086XGtTlPHIKtezq2R0bAXdn/5G1Pq337X9bdW8alY9KZp6vtdeuvWL9O3GMXG/UZ+/E3H02sEdC/44yq29n9jXMMPM+P+qz3363cv+YRTzFihozg87b8T1mpsTrkhbPKzZTB3niOZNNPc4jr1DLrp7d/SB89vhH1vi01rfj3IntrDPncueck8yM3dpr116x/p0YRq456rPfYj4ym2CU3b072qy+PZuTLvmkptn3+VGf/fR71XvHLOIpVtTYihn06ncr982OuT1T4rVJiuUdm6mDPPGcyaUe55JXqGVXzyY8CB+J4d3nzqx15DyvxHbV0XyM/NltZmzWXrv2ivXvxDByzVGf/RTvpzWSepg+dvfuaDP7dlYcMNroulvRV2aRWURNK2psVT91mkM75vZMidcmKZZ3hkeVeCFWeep5k0ctziW3UMuunk14ED77c3fNO/El5mNEHleYGdPsc90Vd+WcrKqxGcc+s9bZ417J266epa+U+8JIM/t2Vhww0u56vlL7ZpFZRF0ramxFP3WbQztyNlPi9UmK5R2bqQM9+dzJog7nkluoZVfPrj7ukY2ETz931xsRW1I+RudzppnxWHvt2ivWvxvHyDVHffZTvO/W2NWv9JZwTxhtZt9ejQNWmVVzs/vKLDKLqGtF367op25zaEfOZkq8PkmxvDM0qsSLsNrTz5/91OB88gu17OrZHcc9splw5j6x6vdn5ulqTkb8rDAznpS1z66fEvcVSfU147hn1jp73DM5W92nPMfO+8EsM/v2ahywwsyam91XZpFZRF0r+tYMOm/FDFqZr8RrlBTLOzZTB3v6+bOfGpxPfqGWXT2bctwjGwtX17p7/LvxzcjJ6J/RZsZm7bVrr1j/jhnHObPW2eOm5I3n6lpjM/t2Rgwwysx623E/rM4s4ilW1Nnsfuo4h1bMoJX5SrxGSbG8YzN1AjlgJ7U3nxxDLbt6dvesGLl5sPtc7voU96c8jfiBqmbU9K4XN/qTFbrW2YqXh2digBVm19vMvjKLzCJqW9G7u57JK1sxg1bmK/EaJcXyzrCoEi/ATvLADnpwDTmGWnb1rFmRYecXEdeeqmbV846XEPqSFTrXWdIGBqyw49lx1mc79Y5ZxFOs6N+Z/dR1Du34HjNT4veklDg+sZk6iVywg5pbQ56hll09a1bsl3DdXXsqmvXdbuWLUN9PYYzdGxj6l5VW1druvqpod85cA1axmZqp22bqq+PtvlYpcXwyJKq0xKeQD1ZSb+vINdRiM/WZdubetae6DpupwBi7+9YMYJUrtXa1Pnf3VUW7c/b0/LNO5c3UzntENlPnS4njk8yoGqlQBPSg1taRa6jFZurzJOR+9/HhDpupwI+dfav/WWXlRurvv+t+eJxZxFNU3kztzGbqfClxfJIZVSMVioD61Nla8g212Ex9lpS8J8QAV9lMBX7s6lu9zyrv7nlHf0Ycc9RnOzOLeAqbqZlsps6XEscnmVE1U6EQqEt9rSfnUIvN1GdJyXtCDHCVzVTgx46+1fuscncj1WbqOmYRT7Bqc8sMOs9m6nwpcXySGVVDFYqBmtTVevoZarGZ+hyJXwSgIpupwI+dGxgw066N1FfHHvXZzswiulo1dz4dc9RnO7OZOl9KHJ9kRtVUhYKgFvW0h16GWmymPkfKF4Hdx4e7bKYCP1b3rZ7nCdwPzzOLYBwz6DybqfOlxPFJZlSNpRcEdailfSoMd+AXm6nP8O6LwOrcu+Z0MKuPvLiBelb2rX7nKdwPzzOLYBwz6DybqfOlxPFJZlTNpRcF+dTQXhWGO/CLzdRnSNhMdc3pwmYq8GNV3+p1nsT98DyzCMYxg87ruJn66pg2Uz/LjOoB0guDXGpnvwrDHfjFxtozfNpMXXENXG86sZkK/Fj58vBKXFCR++F5ZhGMYwadZzN1fSyJMqN6kOTiII96yVBhuAO/2Ex9hiObqTOuRdKXDxjFZirwY3bf2rzgidwPzzOLYBwz6DybqetjSZQZ1cOkFgd51EqGCsMd+MVm6nOc2VC9c21WbdTCLjNr+8yaegsyzOrbq/dtc4EO3A/PM4tgDJup59lMXR9LosyoAIJVGO70N3ojqLNd5/qkHCe5+zLESxSwmQr8aUbfuvfydO6H55lFMI4ZdN7snO2YLUkzLSWOTzKjAghXYcDTw8gvb0/8ErjzHJ+Q32QjXox4gcJTqXNgJvdeIIFZxJPZTD3PZuraWBJlRgUQrsKAp7aRX+Ce/GXQZuqz2USF69Q7AADAfLveOSR950uK5Z3MqADCVRjw9LJiI7VjLdtM5YdNVDhH3QMAAMyR8B4i6TtfUizvZEYFEK7CgKefsw9Tnz77lE0im6m8kvClBdLpAwAAgL6SvvMlxfJOZlQA4SoMePo5s8lz9jNda9lmKsA1ZhgAAEBfSd/5kmJ5JzMqgHAVBjy9nPmLuat/udqxlm2mAlxjhgEAAPSV9J0vKZZ3MqMCCFdhwNPLio3UbrW8+/w65xZ4BjMMAACgp6TvexXeoWVGBVBAhSFPH0c2Bs/U4xM3U592fIC7zDEAAICekr7rVfjumRkVQAEVhjx9fNv4PFuL3TdS//lnf4/uPj7AXeYYAABAP2nf9dLieSUzKoACKgx5ehi9kXpkzQ52n9/u4wOMYI4BAAD0kvY9r8I7tMyoAAqoMOTp4ehm6p31Otbw7vPbfXyAEcwxAACAXtK+51V4h5YZFUARFQY99X3a+LxSe0/cSLWZCnCNWQYAANBL2ne8Ct87M6MCKKLCoKe2T39FerXuEjYaZ0s4v4QYAEYwywAAAHpI/H5X4R1aZlQARVQY9NT2bSN1xF+ldqzdhPNLiAFgBPMMAACgh8TvdhW+c2ZGBVBEhUFPbf4q9ZqEc0yIAWAU8wwAAKC21O91Fd6hZUYFUEiFYU9d7/6S9GqtPWEzNeX8UuIAGMFMAwAAqC31O12F75uZUQEUUmHYU9OnjdRRf5XasWZTzi8lDoBRzDUAAICakr/LVfiumRkVQCEVhj01+avUa1LOMSUOgJHMNgAAgFrSv8NV+J6ZGRVAIU/ZoGK90X9J+oRaTTrHlDgARjPfAAAA8lX57lYhzsyoAIqpMPCpZ/ZfpXas1aTzS4oFYDQzDgAAIFel72wVYs2MCqCYCgOfWvxV6jVJ55gUC8AMZhwAAECmSt/XKrxDy4wKoKAKQ586bKael3Z+afEAzGLGAQAAZKn0Pa3CO7TMqAAKqjD0qWP2RmrHGk07v7R4AAAAACBNhXdomVEBFPSEzSrW8Fep5yWeY1o8AAAAAJCmwju0zKgAiqow+Mk3emPw6HqV6zax9xJj4jme8hfpAAAAQG0V3l1kRgVQlBfXjLDrn/itWq+pfZcYE/0d+Q8m1CMAAACQosI7tMyoAAqrMPzJtmMztXK9pvZcalz0dLTW1CQAAACQpMI7tMyoAApL/Ss5atjxT/xWrtPkfkuNi37O1JmaBAAAAJJUeIeWGRVAcRVuAGRauZnaoUaTey05Nvo4W2NqEgAAAEhS4R1aZlQADVS4CZBnxWZql9pMP4/0+OjhbH2pSQAAACBJhXdomVEBNNBp04o1Zmx2dt1I/eef/Aet9Pio70p9qUkAAAAgSYV3aJlRATRR4UZAjhmbnTZS96kQI7XZTAUAAACqq/AOLTMqgEYq3AzorVsNVjmfKnFSk41UAAAAoIMK79AyowJopNtfBMJOlfqpSpzUZDMVAAAA6KDCO7TMqACaqXBDgAoq9VKlWKnnbG2pRQAAACBRhXdomVEBNFThpgDJqvVQtXipw0YqAAAA0EWFd2iZUQE0VeHGAIkq9k7FmKnhXV29+mew1R8AAACQrMI7jMyoABqrcHOAJFV7pmrc5LOZCgAAAHRR4R1GZlQAzVW4QUCCyr1SOXZy+Sd+AQAAgE4qvEPLjArgASrcJGCn6j1SPX4yXakpdQgAAACkqvAOLTMqgIeocKOAHTr0RodzII/NVAAAAKCTCu/QMqMCeJAKNwtYqUtPdDkPclytJ7UIAAAApKrw3iIzKoCHqXDDgBU69UKncyGDzVQAAACgmwrvLTKjAnioCjcOmOHv2u9Q/93Oh/1GbKYCAAAAJKnwDi0zKoAHq3DzgJG61nzX82KPO7WkDgEAAIBUFd6hZUYFQPwNBEboXOcVHgSpw2YqAAAA0FGFd2iZUQHwf5JvInBX59qu8CBIHSM2UwEAAADSVHiHlhkVAEBxFR4EqcFfpQIAAABdVXiHlhkVAEBxFR4EqcFfpQIAAABdVXiHlhkVAEBxFR4EqeFqHak9AAAAIF2Fd2iZUQEAFFfhQZB8NlIBAACAziq8Q8uMCgCguAoPguS7UkdqDgAAAKiiwju0zKgAAIqr8CBIvr/r6FMtqTcAAACgmgrv0DKjAgAorsKDINle1c+rzVU1BgAAAFRV4f1GZlQAAMXZ7OIutQMAAAB0VuX9WWZUAADFVXkYJJO6AQAAALqr8v4sMyoAgOKqPAySSd0AAAAA3VV5f5YZFQBAcVUeBsmkbgAAAIDuqrw/y4wKAKCBKg+EZFEvAAAAQHeV3pvlRgYA0ECVh0JyqBcAAACgu0rvzLKjAwAortJ/Zcd+6gQAAADortr7suzoAAAaqPRwyF7qBAAAAOiu2ruy/AgBABqo9pDIeuoDAAAA6K7iO7IaUQIAFFftny8BAAAAgJGqvh+rESUAQAOvHhirPDQCAAAAwBXV34nViRQAoIHqD48AAAAAcFSHd2G1ogUAaKLDgyQAAAAAvNLp3VfNqAEAmnj3YFn14RIAAACAZ+r6nqt29AAATXR92AQAAACgt+7vtXqcBQBAM90eOgEAAADoqft7rJ5nBQAAAAAAAHCTzVQAAAAAAACAF2ymAgAAAAAAALxgMxUAAAAAAADgBZupAAAAAAAAAC/YTAUAAAAAAAB4wWYqAAAAAAAAwAs2UwEAAAAAAABesJkKAAAAAAAA8ILNVAAAAAAAAIAXbKYCAAAAAAAAvGAzFQAAAAAAAOAFm6kAAAAAAAAAL9hMBQAAAAAAAHjBZioAAAAAAADACzZTAQAAAAAAAF6wmQoAAAAAAADwgs1UAAAAAAAAgBdspgIAAAAAAAC8YDMVAAAAAAAA4IX/Bxc67PmoRSiUAAAAAElFTkSuQmCC)"
   ]
  },
  {
   "cell_type": "markdown",
   "metadata": {
    "colab_type": "text",
    "id": "JPFUay0-0W_y"
   },
   "source": [
    "The Elastic Net is a regularized regression method that linearly combines the L1 and L2 penalties of the lasso and ridge methods. "
   ]
  },
  {
   "cell_type": "code",
   "execution_count": null,
   "metadata": {
    "colab": {},
    "colab_type": "code",
    "id": "igsgf-9I_kj1"
   },
   "outputs": [],
   "source": [
    "from sklearn.linear_model import ElasticNet"
   ]
  },
  {
   "cell_type": "code",
   "execution_count": null,
   "metadata": {
    "colab": {},
    "colab_type": "code",
    "id": "DdR2S9-GHZNm"
   },
   "outputs": [],
   "source": [
    "def EN(X1_train,X1_val,X1_test,y1_train,y1_val,y1_test,dir):\n",
    "  EN=ElasticNet()\n",
    "  EN.fit(X1_train,y1_train)\n",
    "  y1_pred1=EN.predict(X1_val)\n",
    "  y1_pred=pd.DataFrame(EN.predict(X1_test))\n",
    "  mse=metrics.mean_squared_error(y1_val,y1_pred1)\n",
    "  rmse4=np.sqrt(mse)\n",
    "  model=\"ELASTIC NET REGRESSION\"\n",
    "  plotdiff(y1_test,y1_pred,dir,model)\n",
    "  return y1_pred,rmse4"
   ]
  },
  {
   "cell_type": "markdown",
   "metadata": {
    "colab_type": "text",
    "id": "Tcg0eA1X_8ed"
   },
   "source": [
    "# DECISION TREE"
   ]
  },
  {
   "cell_type": "markdown",
   "metadata": {
    "colab_type": "text",
    "id": "6YzNZZyB0jnn"
   },
   "source": [
    "![alt text](https://res.cloudinary.com/practicaldev/image/fetch/s--NOtmmf5a--/c_limit%2Cf_auto%2Cfl_progressive%2Cq_66%2Cw_880/https://twilio-cms-prod.s3.amazonaws.com/original_images/tree.gif)"
   ]
  },
  {
   "cell_type": "markdown",
   "metadata": {
    "colab_type": "text",
    "id": "xKgATXYz0-s_"
   },
   "source": [
    "Decision tree builds regression  models in the form of a tree structure."
   ]
  },
  {
   "cell_type": "code",
   "execution_count": null,
   "metadata": {
    "colab": {},
    "colab_type": "code",
    "id": "2Yn0JRUnAAhw"
   },
   "outputs": [],
   "source": [
    "from sklearn.tree import DecisionTreeRegressor"
   ]
  },
  {
   "cell_type": "code",
   "execution_count": null,
   "metadata": {
    "colab": {},
    "colab_type": "code",
    "id": "txssZ_kpH4-w"
   },
   "outputs": [],
   "source": [
    "def DT(X1_train,X1_val,X1_test,y1_train,y1_val,y1_test,dir):\n",
    "  DT=DecisionTreeRegressor()\n",
    "  DT.fit(X1_train,y1_train)\n",
    "  y1_pred1=DT.predict(X1_val)\n",
    "  y1_pred=pd.DataFrame(DT.predict(X1_test))\n",
    "  mse=metrics.mean_squared_error(y1_val,y1_pred1)\n",
    "  rmse5=np.sqrt(mse)\n",
    "  model=\"DECISION TREE\"\n",
    "  plotdiff(y1_test,y1_pred,dir,model)\n",
    "  return y1_pred,rmse5"
   ]
  },
  {
   "cell_type": "markdown",
   "metadata": {
    "colab_type": "text",
    "id": "MYQRIyd1P58b"
   },
   "source": [
    "# KNN MODEL"
   ]
  },
  {
   "cell_type": "markdown",
   "metadata": {
    "colab_type": "text",
    "id": "VbXj186e1S09"
   },
   "source": [
    "![alt text](https://miro.medium.com/max/1280/1*b9BXv0uAkbSAn8MJIa4-_Q.gif)"
   ]
  },
  {
   "cell_type": "markdown",
   "metadata": {
    "colab_type": "text",
    "id": "ZDVSjxIY1K1R"
   },
   "source": [
    "K nearest neighbors is a simple algorithm that stores all available cases and predict the numerical target based on a similarity measure"
   ]
  },
  {
   "cell_type": "code",
   "execution_count": null,
   "metadata": {
    "colab": {},
    "colab_type": "code",
    "id": "kBqReRQcJPXq"
   },
   "outputs": [],
   "source": [
    "from sklearn.neighbors import KNeighborsRegressor"
   ]
  },
  {
   "cell_type": "code",
   "execution_count": null,
   "metadata": {
    "colab": {},
    "colab_type": "code",
    "id": "7vEFri-3ALuX"
   },
   "outputs": [],
   "source": [
    "def KNN(X1_train,X1_val,X1_test,y1_train,y1_val,y1_test,dir):\n",
    "  KNN=KNeighborsRegressor()\n",
    "  KNN.fit(X1_train,y1_train)\n",
    "  y1_pred1=KNN.predict(X1_val)\n",
    "  y1_pred=pd.DataFrame(KNN.predict(X1_test))\n",
    "  mse=metrics.mean_squared_error(y1_val,y1_pred1)\n",
    "  rmse6=np.sqrt(mse)\n",
    "  model=\"KNN MODEL\"\n",
    "  plotdiff(y1_test,y1_pred,dir,model)\n",
    "  return y1_pred,rmse6"
   ]
  },
  {
   "cell_type": "markdown",
   "metadata": {
    "colab_type": "text",
    "id": "Od4trFZlP8xV"
   },
   "source": [
    "# SVR MODEL"
   ]
  },
  {
   "cell_type": "markdown",
   "metadata": {
    "colab_type": "text",
    "id": "mrG4LWu812tF"
   },
   "source": [
    "![alt text](https://www.semspirit.com//wp-content/uploads/sites/17154/2017/10/PY-SVR-model-capture-800x450-compress-50.gif)"
   ]
  },
  {
   "cell_type": "markdown",
   "metadata": {
    "colab_type": "text",
    "id": "Nj8ZdN1A4bti"
   },
   "source": [
    " Support Vector Regression (SVR) applies the idea of SVM to predict real values rather than a class.\n",
    "\n",
    "> SVR acknowledges the presence of non-linearity in the data and provides a proficient prediction model.\n",
    "\n"
   ]
  },
  {
   "cell_type": "code",
   "execution_count": null,
   "metadata": {
    "colab": {},
    "colab_type": "code",
    "id": "aDRCznTXJzgi"
   },
   "outputs": [],
   "source": [
    "from sklearn.svm import SVR"
   ]
  },
  {
   "cell_type": "code",
   "execution_count": null,
   "metadata": {
    "colab": {},
    "colab_type": "code",
    "id": "RIih1dCWAfm-"
   },
   "outputs": [],
   "source": [
    "def svm(X1_train,X1_val,X1_test,y1_train,y1_val,y1_test,dir):\n",
    "  svr=SVR()\n",
    "  svr.fit(X1_train,y1_train)\n",
    "  y1_pred1=svr.predict(X1_val)\n",
    "  y1_pred=pd.DataFrame(svr.predict(X1_test))\n",
    "  mse=metrics.mean_squared_error(y1_val,y1_pred1)\n",
    "  rmse7=np.sqrt(mse)\n",
    "  model=\"SVR MODEL\"\n",
    "  plotdiff(y1_test,y1_pred,dir,model)\n",
    "  return y1_pred,rmse7"
   ]
  },
  {
   "cell_type": "markdown",
   "metadata": {
    "colab_type": "text",
    "id": "hPprzoFZKGRd"
   },
   "source": [
    "# SENTIMENT ANALYSIS"
   ]
  },
  {
   "cell_type": "markdown",
   "metadata": {
    "colab_type": "text",
    "id": "06hh392B5pSr"
   },
   "source": [
    "![alt text](https://thumbs.gfycat.com/EnchantedYellowishBarasinga-small.gif)"
   ]
  },
  {
   "cell_type": "markdown",
   "metadata": {
    "colab_type": "text",
    "id": "yEI1L8Sf5tRM"
   },
   "source": [
    "Neural networks are a set of algorithms, modeled loosely after the human brain, that are designed to recognize patterns."
   ]
  },
  {
   "cell_type": "code",
   "execution_count": null,
   "metadata": {
    "colab": {},
    "colab_type": "code",
    "id": "t5NbceKnWOJj"
   },
   "outputs": [],
   "source": [
    "from sklearn.neural_network import MLPRegressor"
   ]
  },
  {
   "cell_type": "code",
   "execution_count": null,
   "metadata": {
    "colab": {},
    "colab_type": "code",
    "id": "B2S2OQFpKFwY"
   },
   "outputs": [],
   "source": [
    "def Sentiment(X1_train,X1_val,X1_test,y1_train,y1_val,y1_test,sentiment,dir):\n",
    "  X1_train.loc[:,'Sentiment']=sentiment\n",
    "  X1_val.loc[:,'Sentiment']=sentiment\n",
    "  X1_test.loc[:,'Sentiment']=sentiment\n",
    "  clf = MLPRegressor()\n",
    "  clf.fit(X1_train, y1_train)\n",
    "  y1_pred1=clf.predict(X1_val)\n",
    "  y1_pred=pd.DataFrame(clf.predict(X1_test))\n",
    "  mse=metrics.mean_squared_error(y1_val,y1_pred1)\n",
    "  rmse7=np.sqrt(mse)\n",
    "  model=\"SENTIMENT ANALYSIS\"\n",
    "  plotdiff(y1_test,y1_pred,dir,model)\n",
    "  return y1_pred,rmse7"
   ]
  },
  {
   "cell_type": "markdown",
   "metadata": {
    "colab_type": "text",
    "id": "ChIH7huIyREs"
   },
   "source": [
    "# ENSEMBLE MODELS"
   ]
  },
  {
   "cell_type": "code",
   "execution_count": null,
   "metadata": {
    "colab": {},
    "colab_type": "code",
    "id": "sWog1Y2XyHLo"
   },
   "outputs": [],
   "source": [
    "from sklearn.ensemble import RandomForestRegressor\n",
    "from sklearn.ensemble import GradientBoostingRegressor\n",
    "from sklearn.ensemble import ExtraTreesRegressor\n",
    "from sklearn.ensemble import AdaBoostRegressor"
   ]
  },
  {
   "cell_type": "markdown",
   "metadata": {
    "colab_type": "text",
    "id": "ol_7NHF56_2t"
   },
   "source": [
    "![alt text](https://miro.medium.com/max/1280/1*9kACduxnce_JdTrftM_bsA.gif)"
   ]
  },
  {
   "cell_type": "code",
   "execution_count": null,
   "metadata": {
    "colab": {},
    "colab_type": "code",
    "id": "jeYjtjNFxvf3"
   },
   "outputs": [],
   "source": [
    "def E1(X1_train,X1_val,X1_test,y1_train,y1_val,y1_test,dir):\n",
    "  clf = RandomForestRegressor()\n",
    "  clf.fit(X1_train, y1_train)\n",
    "  y1_pred1=clf.predict(X1_val)\n",
    "  y1_pred=pd.DataFrame(clf.predict(X1_test))\n",
    "  mse=metrics.mean_squared_error(y1_val,y1_pred1)\n",
    "  rmse7=np.sqrt(mse)\n",
    "  model=\"RANDOM FOREST REGRESSOR\"\n",
    "  plotdiff(y1_test,y1_pred,dir,model)\n",
    "  return y1_pred,rmse7"
   ]
  },
  {
   "cell_type": "markdown",
   "metadata": {
    "colab_type": "text",
    "id": "VjCqubKi7XbO"
   },
   "source": [
    "![alt text](https://miro.medium.com/max/900/1*IFoOIqlshjtQ34BpsLsIrg.gif)"
   ]
  },
  {
   "cell_type": "code",
   "execution_count": null,
   "metadata": {
    "colab": {},
    "colab_type": "code",
    "id": "mCOin6Nyx4mG"
   },
   "outputs": [],
   "source": [
    "def E2(X1_train,X1_val,X1_test,y1_train,y1_val,y1_test,dir):\n",
    "  clf = GradientBoostingRegressor()\n",
    "  clf.fit(X1_train, y1_train)\n",
    "  y1_pred1=clf.predict(X1_val)\n",
    "  y1_pred=pd.DataFrame(clf.predict(X1_test))\n",
    "  mse=metrics.mean_squared_error(y1_val,y1_pred1)\n",
    "  rmse7=np.sqrt(mse)\n",
    "  model=\"GRADIENT BOOSTING REGRESSOR\"\n",
    "  plotdiff(y1_test,y1_pred,dir,model)\n",
    "  return y1_pred,rmse7"
   ]
  },
  {
   "cell_type": "code",
   "execution_count": null,
   "metadata": {
    "colab": {},
    "colab_type": "code",
    "id": "cVG1ifTzx5aK"
   },
   "outputs": [],
   "source": [
    "def E3(X1_train,X1_val,X1_test,y1_train,y1_val,y1_test,dir):\n",
    "  clf = AdaBoostRegressor()\n",
    "  clf.fit(X1_train, y1_train)\n",
    "  y1_pred1=clf.predict(X1_val)\n",
    "  y1_pred=pd.DataFrame(clf.predict(X1_test))\n",
    "  mse=metrics.mean_squared_error(y1_val,y1_pred1)\n",
    "  rmse7=np.sqrt(mse)\n",
    "  model=\"ADA BOOST REGRESSOR\"\n",
    "  plotdiff(y1_test,y1_pred,dir,model)\n",
    "  return y1_pred,rmse7"
   ]
  },
  {
   "cell_type": "markdown",
   "metadata": {
    "colab_type": "text",
    "id": "3oRL4n-v8bbO"
   },
   "source": [
    "![alt text](https://thumbs.gfycat.com/RigidFantasticBlackfly-size_restricted.gif)"
   ]
  },
  {
   "cell_type": "code",
   "execution_count": null,
   "metadata": {
    "colab": {},
    "colab_type": "code",
    "id": "xub1qfwTx6Al"
   },
   "outputs": [],
   "source": [
    "def E4(X1_train,X1_val,X1_test,y1_train,y1_val,y1_test,dir):\n",
    "  clf = ExtraTreesRegressor()\n",
    "  clf.fit(X1_train, y1_train)\n",
    "  y1_pred1=clf.predict(X1_val)\n",
    "  y1_pred=pd.DataFrame(clf.predict(X1_test))\n",
    "  mse=metrics.mean_squared_error(y1_val,y1_pred1)\n",
    "  rmse7=np.sqrt(mse)\n",
    "  model=\"EXTRA TREES REGRESSOR\"\n",
    "  plotdiff(y1_test,y1_pred,dir,model)\n",
    "  return y1_pred,rmse7"
   ]
  },
  {
   "cell_type": "markdown",
   "metadata": {
    "colab_type": "text",
    "id": "0QfSE9NoIYXR"
   },
   "source": [
    "# TIME SERIES MODELS "
   ]
  },
  {
   "cell_type": "markdown",
   "metadata": {
    "colab_type": "text",
    "id": "-kIXV5KP-zk2"
   },
   "source": [
    "![alt text](https://i.pinimg.com/originals/57/2f/8c/572f8cbe4c9f69c217bdc33b82eb0c28.gif)"
   ]
  },
  {
   "cell_type": "markdown",
   "metadata": {
    "colab_type": "text",
    "id": "iMjV06rwLjNS"
   },
   "source": [
    "# TIME SERIES PARTITION\n"
   ]
  },
  {
   "cell_type": "markdown",
   "metadata": {
    "colab_type": "text",
    "id": "YeR98ipU94kU"
   },
   "source": [
    "![image.png](data:image/png;base64,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)"
   ]
  },
  {
   "cell_type": "markdown",
   "metadata": {
    "colab_type": "text",
    "id": "5ewmIga27Jr-"
   },
   "source": [
    "**DATA WAS PARTITIONED AS TRAINING SET(2017-2019) AND TEST SET(2020)**"
   ]
  },
  {
   "cell_type": "code",
   "execution_count": null,
   "metadata": {
    "colab": {},
    "colab_type": "code",
    "id": "uRJ1yyKXTWxJ"
   },
   "outputs": [],
   "source": [
    "from statsmodels.graphics.tsaplots import plot_acf  #autocorrelation\n",
    "from statsmodels.tsa.stattools import adfuller as ADF  # stable test\n",
    "from statsmodels.graphics.tsaplots import plot_pacf    #pacf\n",
    "from statsmodels.stats.diagnostic import acorr_ljungbox    #white noise\n",
    "from statsmodels.tsa.arima_model import ARIMA"
   ]
  },
  {
   "cell_type": "code",
   "execution_count": null,
   "metadata": {
    "colab": {},
    "colab_type": "code",
    "id": "88dP8BS0RUFF"
   },
   "outputs": [],
   "source": [
    "def testarima(d):\n",
    "  data1,data2,data3,one,two,three=dataextract(d)\n",
    "  data1=dataimpute(data1)\n",
    "  data2=dataimpute(data2)\n",
    "  data3=dataimpute(data3)\n",
    "  data1=data1.loc[:,'Adj Close']\n",
    "  data2=data2.loc[:,'Adj Close']\n",
    "  data3=data3.loc[:,'Adj Close']\n",
    "  train_data1, test_data1 =data1[0:int(len(data1)*0.7)], data1[int(len(data1)*0.7)-1:]\n",
    "  train_data2, test_data2 =data2[0:int(len(data2)*0.7)], data2[int(len(data2)*0.7)-1:]\n",
    "  train_data3, test_data3 =data3[0:int(len(data3)*0.7)], data3[int(len(data3)*0.7)-1:]\n",
    "  return train_data1,train_data2,train_data3,test_data1,test_data2,test_data3,one,two,three"
   ]
  },
  {
   "cell_type": "code",
   "execution_count": null,
   "metadata": {
    "colab": {},
    "colab_type": "code",
    "id": "j-aKCsq6RcDC"
   },
   "outputs": [],
   "source": [
    "def plotarima(train_data,test_data,dir):\n",
    "  plt.figure(figsize=(12,7))\n",
    "  plt.title('Prices')\n",
    "  plt.xlabel('Dates')\n",
    "  plt.ylabel('Prices')\n",
    "  plt.plot(train_data,color='blue', label='Training Data')\n",
    "  plt.plot(test_data,color='green', label='Testing Data')\n",
    "  plt.legend()\n",
    "  plt.savefig(dir +\"/model\"+ \"/Time Series Partition graph.png\")\n",
    "  return plt.show()"
   ]
  },
  {
   "cell_type": "markdown",
   "metadata": {
    "colab_type": "text",
    "id": "VHwo9lpTLwe0"
   },
   "source": [
    "# STATIONARITY TEST"
   ]
  },
  {
   "cell_type": "code",
   "execution_count": null,
   "metadata": {
    "colab": {},
    "colab_type": "code",
    "id": "2DmGCWgF-m3S"
   },
   "outputs": [],
   "source": [
    "from statsmodels.tsa.stattools import adfuller"
   ]
  },
  {
   "cell_type": "code",
   "execution_count": null,
   "metadata": {
    "colab": {},
    "colab_type": "code",
    "id": "CsiLXKtGLv8Q"
   },
   "outputs": [],
   "source": [
    "def test_stationarity(timeseries,dir):\n",
    "    \n",
    "    #Determing rolling statistics\n",
    "    rolmean = pd.Series(timeseries).rolling(window=12).mean()\n",
    "    rolstd = pd.Series(timeseries).rolling(window=12).std()\n",
    "\n",
    "    #Plot rolling statistics:\n",
    "    plt.style.use('seaborn')\n",
    "    rcParams['figure.figsize'] = 20,10\n",
    "    orig = plt.plot(timeseries,label='Original')\n",
    "    mean = plt.plot(rolmean, label='Rolling Mean')\n",
    "    std = plt.plot(rolstd, label = 'Rolling Std')\n",
    "    plt.legend(loc='best')\n",
    "    plt.title('Rolling Mean & Standard Deviation')\n",
    "    plt.show(block=False)\n",
    "    \n",
    "    #Perform Dickey-Fuller test:\n",
    "    print('Results of Dickey-Fuller Test:')\n",
    "    dftest = adfuller(timeseries, autolag='AIC')\n",
    "    dfoutput = pd.Series(dftest[0:4], index=['Test Statistic','p-value','#Lags Used','Number of Observations Used'])\n",
    "    for key,value in dftest[4].items():\n",
    "        dfoutput['Critical Value (%s)'%key] = value\n",
    "    temp1=pd.DataFrame(dfoutput)\n",
    "    temp1.to_csv(dir+\"/model\"+\"/Results of Dickey-Fuller Test.csv\")\n",
    "    return temp1\n"
   ]
  },
  {
   "cell_type": "markdown",
   "metadata": {
    "colab_type": "text",
    "id": "7fEboIgCegcK"
   },
   "source": [
    "# WHITE NOISE TEST"
   ]
  },
  {
   "cell_type": "code",
   "execution_count": null,
   "metadata": {
    "colab": {},
    "colab_type": "code",
    "id": "wz3QuZK3eiLs"
   },
   "outputs": [],
   "source": [
    "def whitenoisetest(train1,dir):\n",
    "  temp2=acorr_ljungbox(train1,lags=1)\n",
    "  temp2=pd.DataFrame(temp2)\n",
    "  temp2.to_csv(dir+\"/model\"+\"/Results of White  Test <0.05 stable and not white noise.csv\")\n",
    "  return temp2\n",
    "  \n",
    "#<0.05 stable and not white noise"
   ]
  },
  {
   "cell_type": "markdown",
   "metadata": {
    "colab_type": "text",
    "id": "psWmjsme8iCR"
   },
   "source": [
    "# ACF and PACF"
   ]
  },
  {
   "cell_type": "code",
   "execution_count": null,
   "metadata": {
    "colab": {},
    "colab_type": "code",
    "id": "TG8NiBIM8ese"
   },
   "outputs": [],
   "source": [
    "def ACF(train_data,dir):\n",
    "  D_df = train_data.diff(periods=1).dropna()\n",
    "  D_df.columns = ['df1 diff']\n",
    "  ADF_df_p=ADF(D_df)\n",
    "  plot_pacf(D_df)\n",
    "  plt.savefig(dir +\"/model\"+ \"/pacf graph.png\")\n",
    "  plt.clf()\n",
    "  plot_acf(D_df)\n",
    "  plt.savefig(dir +\"/model\"+ \"/acf graph.png\")\n",
    "  plt.clf()\n",
    "  title=\"p-value of original sequence adf test is \" +str(ADF_df_p)\n",
    "  return title\n"
   ]
  },
  {
   "cell_type": "markdown",
   "metadata": {
    "colab_type": "text",
    "id": "zuVe55GGa8S6"
   },
   "source": [
    "# MA MODEL"
   ]
  },
  {
   "cell_type": "markdown",
   "metadata": {
    "colab_type": "text",
    "id": "7Hum7lTG-6Cm"
   },
   "source": [
    "![alt text](https://miro.medium.com/max/1200/1*8GeFfU9itlpiz_DjQzX3uw.gif)"
   ]
  },
  {
   "cell_type": "code",
   "execution_count": null,
   "metadata": {
    "colab": {},
    "colab_type": "code",
    "id": "TCLzOEV5MJxu"
   },
   "outputs": [],
   "source": [
    "from sklearn.metrics import mean_squared_error\n",
    "from math import sqrt\n",
    "!pip install pyramid-arima\n",
    "from pyramid.arima import auto_arima\n",
    "import math"
   ]
  },
  {
   "cell_type": "code",
   "execution_count": null,
   "metadata": {
    "colab": {},
    "colab_type": "code",
    "id": "pLJhJqCTdgCv"
   },
   "outputs": [],
   "source": [
    "def ma(train,test,dir):\n",
    "  preds = []\n",
    "  for i in range(0,test.shape[0]):\n",
    "    x = train[len(train)-test.shape[0]+i:].sum() + sum(preds)\n",
    "    y = x/test.shape[0]\n",
    "    preds.append(y)\n",
    "  # checking the results (RMSE value)\n",
    "  rmse=sqrt(mean_squared_error(test,preds))\n",
    "  plt.plot(train,color='green', label='Training Data')\n",
    "  plt.plot(test.index, preds, marker='o', linestyle='dashed', \n",
    "          label='Predicted Price')\n",
    "  plt.plot(test.index, test, color='red', label='Actual Price')\n",
    "  plt.title('Price Prediction')\n",
    "  plt.xlabel('Dates')\n",
    "  plt.ylabel('Prices')\n",
    "  plt.legend()\n",
    "  plt.savefig(dir +\"/model\"+ \"/MA MODEL.png\")\n",
    "  plt.clf\n",
    "  preds=pd.DataFrame(preds)\n",
    "  return preds,rmse\n"
   ]
  },
  {
   "cell_type": "markdown",
   "metadata": {
    "colab_type": "text",
    "id": "ECBI9RKwnrmt"
   },
   "source": [
    "# ARIMA MODEL"
   ]
  },
  {
   "cell_type": "markdown",
   "metadata": {
    "colab_type": "text",
    "id": "2MVcKCzy_om3"
   },
   "source": [
    "![alt text](https://miro.medium.com/max/1260/1*GFGJDj5ULD1JgHiq6CvH6A.gif)"
   ]
  },
  {
   "cell_type": "code",
   "execution_count": null,
   "metadata": {
    "colab": {},
    "colab_type": "code",
    "id": "_06bgOVDfA7L"
   },
   "outputs": [],
   "source": [
    "from statsmodels.tsa.arima_model import ARIMA"
   ]
  },
  {
   "cell_type": "code",
   "execution_count": null,
   "metadata": {
    "colab": {},
    "colab_type": "code",
    "id": "WZErAGpmdVpz"
   },
   "outputs": [],
   "source": [
    "def armodel(train_data,test_data,dir):\n",
    "  try:\n",
    "    aa=auto_arima(train_data, start_p=1, start_q=1, max_p=3, max_q=3,m=12,start_P=1,start_Q=1,seasonal=True,d=1, D=1, trace=True,error_action='ignore',  suppress_warnings=True, stepwise=True)\n",
    "    train_ar = train_data.values\n",
    "    test_ar = test_data.values\n",
    "    history = [x for x in train_ar]\n",
    "    print(history)\n",
    "    predictions = list()\n",
    "    for t in range(len(test_ar)):\n",
    "      model = ARIMA(history,order=(aa.order))\n",
    "      model_fit = model.fit()\n",
    "      output = model_fit.forecast()\n",
    "      yhat = output[0]\n",
    "      predictions.append(yhat)\n",
    "      obs = test_ar[t]\n",
    "      history.append(obs)\n",
    "    error = mean_squared_error(test_ar, predictions)\n",
    "    rmse=sqrt(error)\n",
    "    plt.plot(train_data,color='green', label='Training Data')\n",
    "    plt.plot(test_data.index, predictions, marker='o', linestyle='dashed', \n",
    "    label='Predicted Price')\n",
    "    plt.plot(test_data.index, test_data, color='red', label='Actual Price')\n",
    "    plt.title('Price Prediction')\n",
    "    plt.xlabel('Dates')\n",
    "    plt.ylabel('Prices')\n",
    "    plt.legend()\n",
    "    plt.savefig(dir +\"/model\"+ \"/ARIMA MODEL.png\")\n",
    "    plt.clf\n",
    "  except ValueError:\n",
    "     a = np.zeros(shape=(len(test_data),1)) #Bad performing model\n",
    "     predictions=pd.DataFrame(a)\n",
    "     #d1=[test_data.mean()]*(len(test_data)) #Better bad performing model but we don't want it to be best\n",
    "     #predictions=pd.DataFrame(d1)\n",
    "     error = mean_squared_error(test_ar, predictions)\n",
    "     rmse=sqrt(error)\n",
    "     return predictions,rmse \n",
    "  else:\n",
    "     predictions=pd.DataFrame(predictions)\n",
    "     return predictions,rmse"
   ]
  },
  {
   "cell_type": "markdown",
   "metadata": {
    "colab_type": "text",
    "id": "Vrd1fCiDBvyc"
   },
   "source": [
    "# COMPARING MODELS"
   ]
  },
  {
   "cell_type": "markdown",
   "metadata": {
    "colab_type": "text",
    "id": "NolkFL4uAoa8"
   },
   "source": [
    "![alt text](https://media3.giphy.com/media/sRFEa8lbeC7zbcIZZR/giphy.gif)"
   ]
  },
  {
   "cell_type": "markdown",
   "metadata": {
    "colab_type": "text",
    "id": "pvIi3EUl_vqp"
   },
   "source": [
    "**WE CHOSE THE BEST MODEL THAT FITS BY TAKING THE LOWEST RMSE VALUE.**\n",
    "\n",
    "\n",
    "\n",
    "\n"
   ]
  },
  {
   "cell_type": "code",
   "execution_count": null,
   "metadata": {
    "colab": {},
    "colab_type": "code",
    "id": "j9ogYdSZmP_Y"
   },
   "outputs": [],
   "source": [
    "def models1(d):\n",
    "  X1_train,X1_val,X1_test,y1_train,y1_val,y1_test,X2_train,X2_val,X2_test,y2_train,y2_val,y2_test,X3_train,X3_val,X3_test,y3_train,y3_val,y3_test,y1_data,y2_data,y3_data,X1,X2,X3,y1,y2,y3,one,two,three=datapartition(d)\n",
    "  \n",
    "  dir=directory(d)\n",
    "  dir1=dir+\"/\"+one\n",
    "  y_pred11,rmse11=linear(X1_train,X1_val,X1_test,y1_train,y1_val,y1_test,dir1)\n",
    "  y_pred13,rmse13=lasso(X1_train,X1_val,X1_test,y1_train,y1_val,y1_test,dir1)\n",
    "  y_pred14,rmse14=EN(X1_train,X1_val,X1_test,y1_train,y1_val,y1_test,dir1)\n",
    "  y_pred15,rmse15=DT(X1_train,X1_val,X1_test,y1_train,y1_val,y1_test,dir1)\n",
    "  y_pred16,rmse16=KNN(X1_train,X1_val,X1_test,y1_train,y1_val,y1_test,dir1)\n",
    "  y_pred17,rmse17=svm(X1_train,X1_val,X1_test,y1_train,y1_val,y1_test,dir1)\n",
    "  y_pred18,rmse18=Sentiment(X1_train,X1_val,X1_test,y1_train,y1_val,y1_test,10,dir1)\n",
    "  y_pred19,rmse19=E1(X1_train,X1_val,X1_test,y1_train,y1_val,y1_test,dir1)\n",
    "  y_pred110,rmse110=E2(X1_train,X1_val,X1_test,y1_train,y1_val,y1_test,dir1)\n",
    "  y_pred111,rmse111=E3(X1_train,X1_val,X1_test,y1_train,y1_val,y1_test,dir1)\n",
    "  y_pred112,rmse112=E4(X1_train,X1_val,X1_test,y1_train,y1_val,y1_test,dir1)\n",
    "  \n",
    "  dir2=dir+\"/\"+two\n",
    "  y_pred21,rmse21=linear(X2_train,X2_val,X2_test,y2_train,y2_val,y2_test,dir2)\n",
    "  y_pred23,rmse23=lasso(X2_train,X2_val,X2_test,y2_train,y2_val,y2_test,dir2)\n",
    "  y_pred24,rmse24=EN(X2_train,X2_val,X2_test,y2_train,y2_val,y2_test,dir2)\n",
    "  y_pred25,rmse25=DT(X2_train,X2_val,X2_test,y2_train,y2_val,y2_test,dir2)\n",
    "  y_pred26,rmse26=KNN(X2_train,X2_val,X2_test,y2_train,y2_val,y2_test,dir2)\n",
    "  y_pred27,rmse27=svm(X2_train,X2_val,X2_test,y2_train,y2_val,y2_test,dir2)\n",
    "  y_pred28,rmse28=Sentiment(X2_train,X2_val,X2_test,y2_train,y2_val,y2_test,9,dir2)\n",
    "  y_pred29,rmse29=E1(X2_train,X2_val,X2_test,y2_train,y2_val,y2_test,dir2)\n",
    "  y_pred210,rmse210=E2(X2_train,X2_val,X2_test,y2_train,y2_val,y2_test,dir2)\n",
    "  y_pred211,rmse211=E3(X2_train,X2_val,X2_test,y2_train,y2_val,y2_test,dir2)\n",
    "  y_pred212,rmse212=E4(X2_train,X2_val,X2_test,y2_train,y2_val,y2_test,dir2)\n",
    "  \n",
    "  dir3=dir+\"/\"+three\n",
    "  y_pred31,rmse31=linear(X3_train,X3_val,X3_test,y3_train,y3_val,y3_test,dir3)\n",
    "  y_pred33,rmse33=lasso(X3_train,X3_val,X3_test,y3_train,y3_val,y3_test,dir3)\n",
    "  y_pred34,rmse34=EN(X3_train,X3_val,X3_test,y3_train,y3_val,y3_test,dir3)\n",
    "  y_pred35,rmse35=DT(X3_train,X3_val,X3_test,y3_train,y3_val,y3_test,dir3)\n",
    "  y_pred36,rmse36=KNN(X3_train,X3_val,X3_test,y3_train,y3_val,y3_test,dir3)\n",
    "  y_pred37,rmse37=svm(X3_train,X3_val,X3_test,y3_train,y3_val,y3_test,dir3)\n",
    "  y_pred38,rmse38=Sentiment(X3_train,X3_val,X3_test,y3_train,y3_val,y3_test,8,dir3)\n",
    "  y_pred39,rmse39=E1(X3_train,X3_val,X3_test,y3_train,y3_val,y3_test,dir3)\n",
    "  y_pred310,rmse310=E2(X2_train,X2_val,X2_test,y2_train,y2_val,y2_test,dir2)\n",
    "  y_pred311,rmse311=E3(X2_train,X2_val,X2_test,y2_train,y2_val,y2_test,dir2)\n",
    "  y_pred312,rmse312=E4(X2_train,X2_val,X2_test,y2_train,y2_val,y2_test,dir2)\n",
    "\n",
    "  return  y_pred11,rmse11,y_pred13,rmse13,y_pred14,rmse14,y_pred15,rmse15,y_pred16,rmse16,y_pred17,rmse17,y_pred18,rmse18,y_pred19,rmse19,y_pred110,rmse110,y_pred111,rmse111,y_pred112,rmse112,y_pred21,rmse21,y_pred23,rmse23,y_pred24,rmse24,y_pred25,rmse25,y_pred26,rmse26,y_pred27,rmse27,y_pred28,rmse28,y_pred29,rmse29,y_pred210,rmse210,y_pred211,rmse211,y_pred212,rmse212,y_pred31,rmse31,y_pred33,rmse33,y_pred34,rmse34,y_pred35,rmse35,y_pred36,rmse36,y_pred37,rmse37,y_pred38,rmse38,y_pred39,rmse39,y_pred310,rmse310,y_pred311,rmse311,y_pred312,rmse312\n",
    "\n",
    "\n",
    "\n",
    "\n"
   ]
  },
  {
   "cell_type": "code",
   "execution_count": null,
   "metadata": {
    "colab": {},
    "colab_type": "code",
    "id": "YZPjnSKBSM1-"
   },
   "outputs": [],
   "source": [
    "def models2(d):\n",
    "  train1,train2,train3,test1,test2,test3,one,two,three=testarima(d)\n",
    "  dir=directory(d)\n",
    "  dir1=dir+\"/\"+one\n",
    "  plotarima(train1,test1,dir1)\n",
    "  t1=test_stationarity(train1,dir1) \n",
    "  w1=whitenoisetest(train1,dir1)\n",
    "  title1=ACF(train1,dir1)\n",
    "  print(title1)\n",
    "  pred11,rm11=armodel(train1,test1,dir1)\n",
    "  pred12,rm12=ma(train1,test1,dir1)\n",
    "\n",
    "  dir2=dir+\"/\"+two\n",
    "  plotarima(train2,test2,dir2)\n",
    "  t2=test_stationarity(train2,dir2)\n",
    "  w2=whitenoisetest(train2,dir2)\n",
    "  title2=ACF(train2,dir2)\n",
    "  print(title2)\n",
    "  pred21,rm21=armodel(train2,test2,dir2)\n",
    "  pred22,rm22=ma(train2,test2,dir2)\n",
    "  \n",
    "  dir3=dir+\"/\"+three\n",
    "  plotarima(train3,test3,dir3)\n",
    "  t3=test_stationarity(train3,dir3)\n",
    "  w3=whitenoisetest(train3,dir3)\n",
    "  title3=ACF(train3,dir3)\n",
    "  print(title3)\n",
    "  pred31,rm31=armodel(train3,test3,dir3)\n",
    "  pred32,rm32=ma(train3,test3,dir3)\n",
    "  return pred11,rm11,pred12,rm12,pred21,rm21,pred22,rm22,pred31,rm31,pred32,rm32\n"
   ]
  },
  {
   "cell_type": "markdown",
   "metadata": {
    "colab_type": "text",
    "id": "ZGZv8aNdzgxQ"
   },
   "source": [
    "# Residuals Comparision"
   ]
  },
  {
   "cell_type": "markdown",
   "metadata": {
    "colab_type": "text",
    "id": "MGjRQPuXA1jY"
   },
   "source": [
    " **WE ALSO CHECKED THE SPREAD OF RESIDUALS OF MODELS BY BOXPLOTS**"
   ]
  },
  {
   "cell_type": "code",
   "execution_count": null,
   "metadata": {
    "colab": {},
    "colab_type": "code",
    "id": "4hw3pdKFDszx"
   },
   "outputs": [],
   "source": [
    "def box(y1_test,y_pred11,y_pred13,y_pred14,y_pred15,y_pred16,y_pred17,y_pred18,y_pred19,y_pred110,y_pred111,y_pred112,pred11,pred12,dir1):\n",
    "  y1_test=y1_test.reset_index()\n",
    "  linear=np.subtract(y1_test.loc[:,'Adj Close'],y_pred11.loc[:,0])\n",
    "  lasso=np.subtract(y1_test.loc[:,'Adj Close'],y_pred13.loc[:,0])\n",
    "  en=np.subtract(y1_test.loc[:,'Adj Close'],y_pred14.loc[:,0])\n",
    "  dt=np.subtract(y1_test.loc[:,'Adj Close'],y_pred15.loc[:,0])\n",
    "  knn=np.subtract(y1_test.loc[:,'Adj Close'],y_pred16.loc[:,0])\n",
    "  svr=np.subtract(y1_test.loc[:,'Adj Close'],y_pred17.loc[:,0])\n",
    "  nn=np.subtract(y1_test.loc[:,'Adj Close'],y_pred18.loc[:,0])\n",
    "  e1=np.subtract(y1_test.loc[:,'Adj Close'],y_pred19.loc[:,0])\n",
    "  e2=np.subtract(y1_test.loc[:,'Adj Close'],y_pred110.loc[:,0])\n",
    "  e3=np.subtract(y1_test.loc[:,'Adj Close'],y_pred111.loc[:,0])\n",
    "  e4=np.subtract(y1_test.loc[:,'Adj Close'],y_pred112.loc[:,0])\n",
    "  ar=np.subtract(y1_test.loc[:,'Adj Close'],pred11.loc[:,0])\n",
    "  ma=np.subtract(y1_test.loc[:,'Adj Close'],pred12.loc[:,0])\n",
    "\n",
    "  ar=ar[np.logical_not(np.isnan(ar))] \n",
    "  ma=ma[np.logical_not(np.isnan(ma))]\n",
    "\n",
    "  residuals=pd.DataFrame()\n",
    "  residuals=pd.concat([linear,lasso,en,dt,knn,svr,nn,e1,e2,e3,e4,ar,ma],axis=1)\n",
    "  residuals.columns=['LINEAR REGRESSION','LASSO REGRESSION','ELASTIC NET REGRESSION','DECISION TREE','KNN MODEL','SVR MODEL','SENTIMENT ANALYSIS','RANDOM FOREST REGRESSOR','GRADIENT BOOST REGRESSOR','ADA BOOST REGRESSOR','EXTRA TREES REGRESSOR','ARIMA MODEL','MA MODEL']\n",
    "\n",
    "  data=[linear,lasso,en,dt,knn,svr,nn,e1,e2,e3,e4,ar,ma]  \n",
    "  #building figure\n",
    "  fig = plt.figure()\n",
    "  fig.suptitle('Residuals Comparison')\n",
    "  ax = fig.add_subplot(111)\n",
    "  plt.boxplot(data)\n",
    "  ax.set_xticklabels(residuals.columns)\n",
    "  plt.xticks(rotation='vertical')\n",
    "\n",
    "  plt.savefig(dir1 + \"/model\"+\"/Residuals Comparision\"+\".png\")\n",
    "  return plt.clf()"
   ]
  },
  {
   "cell_type": "code",
   "execution_count": null,
   "metadata": {
    "colab": {},
    "colab_type": "code",
    "id": "k26dQCAqWN0y"
   },
   "outputs": [],
   "source": [
    "def compare(rmse1,rmse2,rmse3,rmse4,rmse5,rmse6,rmse7,rmse8,rmse9,rmse10,rmse11,rmse12,rmse13):\n",
    "  rmse=pd.DataFrame()\n",
    "  rmse['Model']=['LINEAR REGRESSION','LASSO REGRESSION','ELASTIC NET REGRESSION','DECISION TREE','KNN MODEL','SVR MODEL','SENTIMENT ANALYSIS','RANDOM FOREST REGRESSOR','GRADIENT BOOST REGRESSOR','ADA BOOST REGRESSOR','EXTRA TREES REGRESSOR','ARIMA MODEL','MA MODEL']\n",
    "  rmse['RMSE']=[rmse1,rmse2,rmse3,rmse4,rmse5,rmse6,rmse7,rmse8,rmse9,rmse10,rmse11,rmse12,rmse13]\n",
    "  l=np.min(rmse[\"RMSE\"])\n",
    "  for i in range(len(rmse)):\n",
    "      if l==rmse.iloc[i]['RMSE']:\n",
    "        best=rmse.iloc[i][\"Model\"]\n",
    "  return l,best\n"
   ]
  },
  {
   "cell_type": "code",
   "execution_count": null,
   "metadata": {
    "colab": {},
    "colab_type": "code",
    "id": "eZg3gt3qozTD"
   },
   "outputs": [],
   "source": [
    "def finalmodel(d):\n",
    "  X1_train,X1_val,X1_test,y1_train,y1_val,y1_test,X2_train,X2_val,X2_test,y2_train,y2_val,y2_test,X3_train,X3_val,X3_test,y3_train,y3_val,y3_test,y1_data,y2_data,y3_data,X1,X2,X3,y1,y2,y3,one,two,three=datapartition(d)\n",
    "  y_pred11,rmse11,y_pred13,rmse13,y_pred14,rmse14,y_pred15,rmse15,y_pred16,rmse16,y_pred17,rmse17,y_pred18,rmse18,y_pred19,rmse19,y_pred110,rmse110,y_pred111,rmse111,y_pred112,rmse112,y_pred21,rmse21,y_pred23,rmse23,y_pred24,rmse24,y_pred25,rmse25,y_pred26,rmse26,y_pred27,rmse27,y_pred28,rmse28,y_pred29,rmse29,y_pred210,rmse210,y_pred211,rmse211,y_pred212,rmse212,y_pred31,rmse31,y_pred33,rmse33,y_pred34,rmse34,y_pred35,rmse35,y_pred36,rmse36,y_pred37,rmse37,y_pred38,rmse38,y_pred39,rmse39,y_pred310,rmse310,y_pred311,rmse311,y_pred312,rmse312=models1(d)\n",
    "\n",
    "  train_data1,train_data2,train_data3,test_data1,test_data2,test_data3,one,two,three=testarima(d)\n",
    "  pred11,rm11,pred12,rm12,pred21,rm21,pred22,rm22,pred31,rm31,pred32,rm32=models2(d)\n",
    "\n",
    "  dir=directory(d) \n",
    "\n",
    "  dir1=dir+\"/\"+one\n",
    "  l,best=compare(rmse11,rmse13,rmse14,rmse15,rmse16,rmse17,rmse18,rmse19,rmse110,rmse111,rmse112,rm11,rm12)\n",
    "  box(y1_test,y_pred11,y_pred13,y_pred14,y_pred15,y_pred16,y_pred17,y_pred18,y_pred19,y_pred110,y_pred111,y_pred112,pred11,pred12,dir1)\n",
    "  model=\"Best model is \"+best\n",
    "  \n",
    "  if l==rmse11:\n",
    "    plotdiff(y1_test,y_pred11,dir1,model)\n",
    "  elif l==rmse13:\n",
    "    plotdiff(y1_test,y_pred13,dir1,model)\n",
    "  elif l==rmse14:\n",
    "    plotdiff(y1_test,y_pred14,dir1,model)\n",
    "  elif l==rmse15:\n",
    "    plotdiff(y1_test,y_pred15,dir1,model)\n",
    "  elif l==rmse16:\n",
    "    plotdiff(y1_test,y_pred16,dir1,model)\n",
    "  elif l==rmse17:\n",
    "    plotdiff(y1_test,y_pred17,dir1,model)\n",
    "  elif l==rmse18:\n",
    "    plotdiff(y1_test,y_pred18,dir1,model)\n",
    "  elif l==rmse19:\n",
    "    plotdiff(y1_test,y_pred19,dir1,model)\n",
    "  elif l==rmse110:\n",
    "    plotdiff(y1_test,y_pred110,dir1,model)\n",
    "  elif l==rmse111:\n",
    "    plotdiff(y1_test,y_pred111,dir1,model)\n",
    "  elif l==rmse112:\n",
    "    plotdiff(y1_test,y_pred112,dir1,model)\n",
    "  elif l==rm11:\n",
    "    plotdiff(test_data1,pred11,dir1,model)\n",
    "  elif l==rm12:\n",
    "    plotdiff(test_data1,pred12,dir1,model)\n",
    "  else:\n",
    "    print(\"Error\")\n",
    "  \n",
    "  dir2=dir+\"/\"+two\n",
    "  l,best=compare(rmse21,rmse23,rmse24,rmse25,rmse26,rmse27,rmse28,rmse29,rmse210,rmse211,rmse212,rm21,rm22)\n",
    "  box(y2_test,y_pred21,y_pred23,y_pred24,y_pred25,y_pred26,y_pred27,y_pred28,y_pred29,y_pred210,y_pred211,y_pred212,pred21,pred22,dir2)\n",
    "  model=\"Best model is \"+best\n",
    "  \n",
    "  if l==rmse21:\n",
    "    plotdiff(y2_test,y_pred21,dir2,model)\n",
    "  elif l==rmse23:\n",
    "    plotdiff(y2_test,y_pred23,dir2,model)\n",
    "  elif l==rmse24:\n",
    "    plotdiff(y2_test,y_pred24,dir2,model)\n",
    "  elif l==rmse25:\n",
    "    plotdiff(y2_test,y_pred25,dir2,model)\n",
    "  elif l==rmse26:\n",
    "    plotdiff(y2_test,y_pred26,dir2,model)\n",
    "  elif l==rmse27:\n",
    "    plotdiff(y2_test,y_pred27,dir2,model)\n",
    "  elif l==rmse28:\n",
    "    plotdiff(y2_test,y_pred28,dir2,model)\n",
    "  elif l==rmse29:\n",
    "    plotdiff(y2_test,y_pred29,dir2,model)\n",
    "  elif l==rmse210:\n",
    "    plotdiff(y2_test,y_pred210,dir2,model)\n",
    "  elif l==rmse211:\n",
    "    plotdiff(y2_test,y_pred211,dir2,model)\n",
    "  elif l==rmse212:\n",
    "    plotdiff(y2_test,y_pred212,dir2,model)\n",
    "  elif l==rm21:\n",
    "    plotdiff(test_data2,pred21,dir2,model)\n",
    "  elif l==rm22:\n",
    "    plotdiff(test_data2,pred22,dir2,model)\n",
    "  else:\n",
    "    print(\"Error\")\n",
    "  dir3=dir+\"/\"+three\n",
    "  l,best=compare(rmse31,rmse33,rmse34,rmse35,rmse36,rmse37,rmse38,rmse39,rmse310,rmse311,rmse312,rm31,rm32)\n",
    "  box(y3_test,y_pred31,y_pred33,y_pred34,y_pred35,y_pred36,y_pred37,y_pred38,y_pred39,y_pred310,y_pred311,y_pred312,pred31,pred32,dir3)\n",
    "  model=\"Best model is \"+best\n",
    "  \n",
    "  if l==rmse31:\n",
    "    plotdiff(y3_test,y_pred31,dir3,model)\n",
    "  elif l==rmse33:\n",
    "    plotdiff(y3_test,y_pred33,dir3,model)\n",
    "  elif l==rmse34:\n",
    "    plotdiff(y3_test,y_pred34,dir3,model)\n",
    "  elif l==rmse35:\n",
    "    plotdiff(y3_test,y_pred35,dir3,model)\n",
    "  elif l==rmse36:\n",
    "    plotdiff(y3_test,y_pred36,dir3,model)\n",
    "  elif l==rmse37:\n",
    "    plotdiff(y3_test,y_pred37,dir3,model)\n",
    "  elif l==rmse38:\n",
    "    plotdiff(y3_test,y_pred38,dir3,model)\n",
    "  elif l==rmse39:\n",
    "    plotdiff(y3_test,y_pred39,dir3,model)\n",
    "  elif l==rmse310:\n",
    "    plotdiff(y3_test,y_pred310,dir3,model)\n",
    "  elif l==rmse311:\n",
    "    plotdiff(y3_test,y_pred311,dir3,model)\n",
    "  elif l==rmse312:\n",
    "    plotdiff(y3_test,y_pred312,dir3,model)\n",
    "  elif l==rm31:\n",
    "    plotdiff(test_data3,pred31,dir3,model)\n",
    "  elif l==rm32:\n",
    "    plotdiff(test_data3,pred32,dir3,model)\n",
    "  else:\n",
    "    print(\"Error\")\n"
   ]
  },
  {
   "cell_type": "code",
   "execution_count": null,
   "metadata": {
    "colab": {},
    "colab_type": "code",
    "id": "KZGwduhoKBei"
   },
   "outputs": [],
   "source": [
    "#finalmodel(t)"
   ]
  },
  {
   "cell_type": "code",
   "execution_count": null,
   "metadata": {
    "colab": {},
    "colab_type": "code",
    "id": "MebyoCpSOL-w"
   },
   "outputs": [],
   "source": [
    "#finalmodel(cd)"
   ]
  },
  {
   "cell_type": "code",
   "execution_count": null,
   "metadata": {
    "colab": {},
    "colab_type": "code",
    "id": "ikU1TXXDOPyW"
   },
   "outputs": [],
   "source": [
    "#finalmodel(hc)"
   ]
  },
  {
   "cell_type": "code",
   "execution_count": null,
   "metadata": {
    "colab": {},
    "colab_type": "code",
    "id": "pTiH8-3rOR3P"
   },
   "outputs": [],
   "source": [
    "#finalmodel(f)"
   ]
  },
  {
   "cell_type": "code",
   "execution_count": null,
   "metadata": {
    "colab": {},
    "colab_type": "code",
    "id": "kHsLA0qVOT_T"
   },
   "outputs": [],
   "source": [
    "#finalmodel(u)"
   ]
  },
  {
   "cell_type": "code",
   "execution_count": null,
   "metadata": {
    "colab": {},
    "colab_type": "code",
    "id": "mIHevfYSOWMn"
   },
   "outputs": [],
   "source": [
    "#finalmodel(cs)"
   ]
  },
  {
   "cell_type": "markdown",
   "metadata": {
    "colab_type": "text",
    "id": "Z0DHGH_pR0y4"
   },
   "source": [
    "# ***PART-III***\n",
    "\n",
    "---\n",
    "\n",
    "\n",
    "\n",
    "\n",
    "\n"
   ]
  },
  {
   "cell_type": "markdown",
   "metadata": {
    "colab_type": "text",
    "id": "gCzUhtfNFoz8"
   },
   "source": [
    "# **RESULTS**"
   ]
  },
  {
   "cell_type": "markdown",
   "metadata": {
    "colab_type": "text",
    "id": "aAUa2iu7Bph0"
   },
   "source": [
    "![alt text](https://thedarkside.frantzmiccoli.com/res/metatrader.gif)"
   ]
  },
  {
   "cell_type": "code",
   "execution_count": null,
   "metadata": {
    "colab": {},
    "colab_type": "code",
    "id": "dNVSGcRn_A37"
   },
   "outputs": [],
   "source": [
    "years=1           #enter number of years\n",
    "date='2020-01-01' #date \n",
    "pay=1000000       #payment=1 million dollars\n"
   ]
  },
  {
   "cell_type": "code",
   "execution_count": null,
   "metadata": {
    "colab": {},
    "colab_type": "code",
    "id": "L98ciV41b1Pm"
   },
   "outputs": [],
   "source": [
    "%pip install numpy-financial"
   ]
  },
  {
   "cell_type": "code",
   "execution_count": null,
   "metadata": {
    "colab": {},
    "colab_type": "code",
    "id": "-V3qqO-lb4Y5"
   },
   "outputs": [],
   "source": [
    "import numpy_financial as npf"
   ]
  },
  {
   "cell_type": "code",
   "execution_count": null,
   "metadata": {
    "colab": {},
    "colab_type": "code",
    "id": "nB3Va5kOFoNz"
   },
   "outputs": [],
   "source": [
    "def zombie(df):\n",
    "  data=df['Adj Close']\n",
    "  returns=pd.DataFrame.pct_change(data)\n",
    "  for i in range(len(data)):\n",
    "    if returns[i]<-10000:\n",
    "      p=\"May be a Potential Zombie Company\"\n",
    "      for j in range(i,len(data),1):\n",
    "        if returns[j]<=returns[i]:\n",
    "          continue\n",
    "        else:\n",
    "          p=\"Not a Potential Zombie Company\"\n",
    "          break\n",
    "    else:\n",
    "      p=\"Not a Potential Zombie Company\"\n",
    "  return p  "
   ]
  },
  {
   "cell_type": "code",
   "execution_count": null,
   "metadata": {
    "colab": {},
    "colab_type": "code",
    "id": "LG5-e3MjRpDo"
   },
   "outputs": [],
   "source": [
    "def results(years,date,pay,d):\n",
    "  data1,data2,data3,one,two,three=dataextract(d)\n",
    "  dir=directory(d)\n",
    "  data1=dataimpute(data1)\n",
    "  data2=dataimpute(data2)\n",
    "  data3=dataimpute(data3)\n",
    "  dir1=os.path.join(dir, one)\n",
    "  dir2=os.path.join(dir, two)\n",
    "  dir3=os.path.join(dir, three)\n",
    "  p1=zombie(data1)\n",
    "  p2=zombie(data2)\n",
    "  p3=zombie(data3)\n",
    "  df1=data1['Adj Close']\n",
    "  df2=data2['Adj Close']\n",
    "  df3=data3['Adj Close']\n",
    "  pv1=npf.pv(nper=years,pmt=pay,rate=0.12,fv=df1.loc[date])\n",
    "  pv2=npf.pv(nper=years,pmt=pay,rate=0.12,fv=df2.loc[date])\n",
    "  pv3=npf.pv(nper=years,pmt=pay,rate=0.12,fv=df3.loc[date])\n",
    "  npv1=npf.npv(rate=0.12,values=df1)\n",
    "  npv2=npf.npv(rate=0.12,values=df2)\n",
    "  npv3=npf.npv(rate=0.12,values=df3)\n",
    "  df1=df1.to_numpy()\n",
    "  df2=df2.to_numpy()\n",
    "  df3=df3.to_numpy()\n",
    "  irr1=npf.irr(df1)\n",
    "  irr2=npf.irr(df2)\n",
    "  irr3=npf.irr(df3)\n",
    "  irr1=np.nan_to_num(0.12)\n",
    "  irr2=np.nan_to_num(0.12)\n",
    "  irr3=np.nan_to_num(0.12)\n",
    "  roi1=npv1/pay \n",
    "  roi2=npv2/pay\n",
    "  roi3=npv3/pay\n",
    "  p1=zombie(data1)\n",
    "  p2=zombie(data2)\n",
    "  p3=zombie(data3)\n",
    "  \n",
    "  elements=['Ticker Symbol','Whether Zombie or not:','Present Value after 1 year if invested $1M on 2020-01-01:','Net Present Value at 12% Discount Rate:','Internal Rate of Return:','Return of Investment:']\n",
    "  a1=[one,p1,pv1,npv1,irr1,roi1]\n",
    "  a2=[two,p2,pv2,npv2,irr2,roi2]\n",
    "  a3=[three,p3,pv3,npv3,irr3,roi3]\n",
    "  b1=data1.describe()\n",
    "  b2=data2.describe()\n",
    "  b3=data3.describe()\n",
    "\n",
    "  pf1=pd.DataFrame(elements,columns=['Info'])\n",
    "  pf1['Answer']=a1\n",
    "  pf1=pf1.append(b1)\n",
    "  pf1.to_excel(dir1+\"/\"+one+\" Financial Portfolio Report.xlsx\")\n",
    "  \n",
    "  pf2=pd.DataFrame(elements,columns=['Info'])\n",
    "  pf2['Answer']=a2\n",
    "  pf2=pf2.append(b2)\n",
    "  pf2.to_excel(dir2+\"/\"+two+\" Financial Portfolio Report.xlsx\")\n",
    "\n",
    "  pf3=pd.DataFrame(elements,columns=['Info'])\n",
    "  pf3['Answer']=a3\n",
    "  pf3=pf3.append(b3)\n",
    "  pf3.to_excel(dir3+\"/\"+three+\" Financial Portfolio Report.xlsx\")\n",
    "\n",
    "\n",
    "\n",
    "\n",
    "\n",
    "\n",
    "\n",
    "\n"
   ]
  },
  {
   "cell_type": "code",
   "execution_count": null,
   "metadata": {
    "colab": {},
    "colab_type": "code",
    "id": "6Ib6-DXt8plR"
   },
   "outputs": [],
   "source": [
    "#results(years,date,pay,t)\n",
    "#results(years,date,pay,cd)\n",
    "#results(years,date,pay,hc)\n",
    "#results(years,date,pay,f)\n",
    "#results(years,date,pay,u)\n",
    "#results(years,date,pay,cs)"
   ]
  },
  {
   "cell_type": "markdown",
   "metadata": {
    "colab_type": "text",
    "id": "gd_GxC35WZj_"
   },
   "source": [
    "                                   \n",
    "\n",
    "---\n",
    "\n"
   ]
  },
  {
   "cell_type": "markdown",
   "metadata": {
    "colab_type": "text",
    "id": "_kLcXccP83oe"
   },
   "source": [
    "# Future Scope for this Project\n",
    "\n",
    "\n",
    "\n",
    "\n",
    "\n",
    "\n",
    "\n",
    "> Improve Space and Time Complexity of the Algorithm\n",
    "\n",
    "\n",
    "\n",
    "\n",
    "\n",
    "\n",
    "> More Variables like Alternative Data,Company Account Details,Sentiment etc\n",
    "\n",
    "> Results for all Stocks Companies\n",
    "\n",
    "> Comparison of different company stock information\n",
    "\n",
    "> Giving more suggestions or results using financial information\n",
    "\n",
    "> More assured stock data from other API using API key\n",
    "\n",
    "> Making  a software or app using GUI\n",
    "\n",
    "> Making a package to generate results as report in GitHub\n",
    "\n",
    "> Tuning more timeseries models and other models\n",
    "\n",
    "\n",
    "\n",
    "\n",
    "\n",
    "\n",
    "\n",
    "\n",
    "\n",
    "\n",
    "\n",
    "\n",
    "\n",
    "\n",
    "\n",
    "\n"
   ]
  },
  {
   "cell_type": "markdown",
   "metadata": {
    "colab_type": "text",
    "id": "9BSEvL9jBtWD"
   },
   "source": [
    "![alt text](https://mir-s3-cdn-cf.behance.net/project_modules/max_1200/0642e775239417.5e4ba3436decf.gif)"
   ]
  }
 ],
 "metadata": {
  "accelerator": "GPU",
  "colab": {
   "collapsed_sections": [],
   "name": "Final Code team-9.ipynb",
   "private_outputs": true,
   "provenance": []
  },
  "kernelspec": {
   "display_name": "Python 3",
   "language": "python",
   "name": "python3"
  },
  "language_info": {
   "codemirror_mode": {
    "name": "ipython",
    "version": 3
   },
   "file_extension": ".py",
   "mimetype": "text/x-python",
   "name": "python",
   "nbconvert_exporter": "python",
   "pygments_lexer": "ipython3",
   "version": "3.7.6"
  }
 },
 "nbformat": 4,
 "nbformat_minor": 1
}
